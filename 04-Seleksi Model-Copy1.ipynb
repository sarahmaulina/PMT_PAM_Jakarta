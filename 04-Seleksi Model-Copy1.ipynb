{
 "cells": [
  {
   "cell_type": "code",
   "execution_count": 1,
   "metadata": {},
   "outputs": [],
   "source": [
    "import numpy as np\n",
    "import pandas as pd\n",
    "\n",
    "from sklearn.pipeline import Pipeline\n",
    "from sklearn.compose import ColumnTransformer\n",
    "\n",
    "from jcopml.pipeline import num_pipe, cat_pipe\n",
    "from jcopml.utils import save_model, load_model\n",
    "\n",
    "import warnings\n",
    "warnings.filterwarnings('ignore')"
   ]
  },
  {
   "cell_type": "code",
   "execution_count": 2,
   "metadata": {
    "scrolled": false
   },
   "outputs": [
    {
     "data": {
      "text/html": [
       "<div>\n",
       "<style scoped>\n",
       "    .dataframe tbody tr th:only-of-type {\n",
       "        vertical-align: middle;\n",
       "    }\n",
       "\n",
       "    .dataframe tbody tr th {\n",
       "        vertical-align: top;\n",
       "    }\n",
       "\n",
       "    .dataframe thead th {\n",
       "        text-align: right;\n",
       "    }\n",
       "</style>\n",
       "<table border=\"1\" class=\"dataframe\">\n",
       "  <thead>\n",
       "    <tr style=\"text-align: right;\">\n",
       "      <th></th>\n",
       "      <th>Tanggal</th>\n",
       "      <th>Kecamatan</th>\n",
       "      <th>pam</th>\n",
       "      <th>pat</th>\n",
       "      <th>elevasi</th>\n",
       "      <th>bulan</th>\n",
       "      <th>bulan_num</th>\n",
       "      <th>tahun</th>\n",
       "      <th>wilayah</th>\n",
       "    </tr>\n",
       "  </thead>\n",
       "  <tbody>\n",
       "    <tr>\n",
       "      <th>0</th>\n",
       "      <td>2018-01-01</td>\n",
       "      <td>Kalideres</td>\n",
       "      <td>1154930</td>\n",
       "      <td>17945</td>\n",
       "      <td>5.352066</td>\n",
       "      <td>January</td>\n",
       "      <td>1</td>\n",
       "      <td>2018</td>\n",
       "      <td>Jakarta Barat</td>\n",
       "    </tr>\n",
       "    <tr>\n",
       "      <th>1</th>\n",
       "      <td>2018-01-01</td>\n",
       "      <td>Cengkareng</td>\n",
       "      <td>883655</td>\n",
       "      <td>13730</td>\n",
       "      <td>3.352066</td>\n",
       "      <td>January</td>\n",
       "      <td>1</td>\n",
       "      <td>2018</td>\n",
       "      <td>Jakarta Barat</td>\n",
       "    </tr>\n",
       "    <tr>\n",
       "      <th>2</th>\n",
       "      <td>2018-01-01</td>\n",
       "      <td>Tambora</td>\n",
       "      <td>128</td>\n",
       "      <td>2</td>\n",
       "      <td>4.352066</td>\n",
       "      <td>January</td>\n",
       "      <td>1</td>\n",
       "      <td>2018</td>\n",
       "      <td>Jakarta Barat</td>\n",
       "    </tr>\n",
       "    <tr>\n",
       "      <th>3</th>\n",
       "      <td>2018-01-01</td>\n",
       "      <td>Grogol Petamburan</td>\n",
       "      <td>373284</td>\n",
       "      <td>5800</td>\n",
       "      <td>4.352066</td>\n",
       "      <td>January</td>\n",
       "      <td>1</td>\n",
       "      <td>2018</td>\n",
       "      <td>Jakarta Barat</td>\n",
       "    </tr>\n",
       "    <tr>\n",
       "      <th>4</th>\n",
       "      <td>2018-01-01</td>\n",
       "      <td>Taman Sari</td>\n",
       "      <td>207430</td>\n",
       "      <td>3223</td>\n",
       "      <td>5.352066</td>\n",
       "      <td>January</td>\n",
       "      <td>1</td>\n",
       "      <td>2018</td>\n",
       "      <td>Jakarta Barat</td>\n",
       "    </tr>\n",
       "  </tbody>\n",
       "</table>\n",
       "</div>"
      ],
      "text/plain": [
       "      Tanggal          Kecamatan      pam    pat   elevasi    bulan  \\\n",
       "0  2018-01-01          Kalideres  1154930  17945  5.352066  January   \n",
       "1  2018-01-01         Cengkareng   883655  13730  3.352066  January   \n",
       "2  2018-01-01            Tambora      128      2  4.352066  January   \n",
       "3  2018-01-01  Grogol Petamburan   373284   5800  4.352066  January   \n",
       "4  2018-01-01         Taman Sari   207430   3223  5.352066  January   \n",
       "\n",
       "   bulan_num  tahun        wilayah  \n",
       "0          1   2018  Jakarta Barat  \n",
       "1          1   2018  Jakarta Barat  \n",
       "2          1   2018  Jakarta Barat  \n",
       "3          1   2018  Jakarta Barat  \n",
       "4          1   2018  Jakarta Barat  "
      ]
     },
     "execution_count": 2,
     "metadata": {},
     "output_type": "execute_result"
    }
   ],
   "source": [
    "raw=pd.read_csv('updated_wilayah_pampat.csv', index_col=0)\n",
    "raw.head()"
   ]
  },
  {
   "cell_type": "code",
   "execution_count": 3,
   "metadata": {},
   "outputs": [],
   "source": [
    "raw.drop(columns=['Tanggal','bulan_num'],inplace=True)"
   ]
  },
  {
   "cell_type": "code",
   "execution_count": 4,
   "metadata": {
    "scrolled": true
   },
   "outputs": [
    {
     "data": {
      "text/html": [
       "<div>\n",
       "<style scoped>\n",
       "    .dataframe tbody tr th:only-of-type {\n",
       "        vertical-align: middle;\n",
       "    }\n",
       "\n",
       "    .dataframe tbody tr th {\n",
       "        vertical-align: top;\n",
       "    }\n",
       "\n",
       "    .dataframe thead th {\n",
       "        text-align: right;\n",
       "    }\n",
       "</style>\n",
       "<table border=\"1\" class=\"dataframe\">\n",
       "  <thead>\n",
       "    <tr style=\"text-align: right;\">\n",
       "      <th></th>\n",
       "      <th>tahun</th>\n",
       "      <th>bulan</th>\n",
       "      <th>wilayah</th>\n",
       "      <th>Kecamatan</th>\n",
       "      <th>pam</th>\n",
       "      <th>pat</th>\n",
       "      <th>elevasi</th>\n",
       "    </tr>\n",
       "  </thead>\n",
       "  <tbody>\n",
       "    <tr>\n",
       "      <th>0</th>\n",
       "      <td>2018</td>\n",
       "      <td>January</td>\n",
       "      <td>Jakarta Barat</td>\n",
       "      <td>Kalideres</td>\n",
       "      <td>1154930</td>\n",
       "      <td>17945</td>\n",
       "      <td>5.352066</td>\n",
       "    </tr>\n",
       "    <tr>\n",
       "      <th>1</th>\n",
       "      <td>2018</td>\n",
       "      <td>January</td>\n",
       "      <td>Jakarta Barat</td>\n",
       "      <td>Cengkareng</td>\n",
       "      <td>883655</td>\n",
       "      <td>13730</td>\n",
       "      <td>3.352066</td>\n",
       "    </tr>\n",
       "    <tr>\n",
       "      <th>2</th>\n",
       "      <td>2018</td>\n",
       "      <td>January</td>\n",
       "      <td>Jakarta Barat</td>\n",
       "      <td>Tambora</td>\n",
       "      <td>128</td>\n",
       "      <td>2</td>\n",
       "      <td>4.352066</td>\n",
       "    </tr>\n",
       "    <tr>\n",
       "      <th>3</th>\n",
       "      <td>2018</td>\n",
       "      <td>January</td>\n",
       "      <td>Jakarta Barat</td>\n",
       "      <td>Grogol Petamburan</td>\n",
       "      <td>373284</td>\n",
       "      <td>5800</td>\n",
       "      <td>4.352066</td>\n",
       "    </tr>\n",
       "    <tr>\n",
       "      <th>4</th>\n",
       "      <td>2018</td>\n",
       "      <td>January</td>\n",
       "      <td>Jakarta Barat</td>\n",
       "      <td>Taman Sari</td>\n",
       "      <td>207430</td>\n",
       "      <td>3223</td>\n",
       "      <td>5.352066</td>\n",
       "    </tr>\n",
       "  </tbody>\n",
       "</table>\n",
       "</div>"
      ],
      "text/plain": [
       "   tahun    bulan        wilayah          Kecamatan      pam    pat   elevasi\n",
       "0   2018  January  Jakarta Barat          Kalideres  1154930  17945  5.352066\n",
       "1   2018  January  Jakarta Barat         Cengkareng   883655  13730  3.352066\n",
       "2   2018  January  Jakarta Barat            Tambora      128      2  4.352066\n",
       "3   2018  January  Jakarta Barat  Grogol Petamburan   373284   5800  4.352066\n",
       "4   2018  January  Jakarta Barat         Taman Sari   207430   3223  5.352066"
      ]
     },
     "execution_count": 4,
     "metadata": {},
     "output_type": "execute_result"
    }
   ],
   "source": [
    "df = raw[['tahun', 'bulan', 'wilayah', 'Kecamatan', 'pam', 'pat','elevasi']]\n",
    "df.head()"
   ]
  },
  {
   "cell_type": "code",
   "execution_count": 5,
   "metadata": {},
   "outputs": [
    {
     "data": {
      "text/html": [
       "<div>\n",
       "<style scoped>\n",
       "    .dataframe tbody tr th:only-of-type {\n",
       "        vertical-align: middle;\n",
       "    }\n",
       "\n",
       "    .dataframe tbody tr th {\n",
       "        vertical-align: top;\n",
       "    }\n",
       "\n",
       "    .dataframe thead th {\n",
       "        text-align: right;\n",
       "    }\n",
       "</style>\n",
       "<table border=\"1\" class=\"dataframe\">\n",
       "  <thead>\n",
       "    <tr style=\"text-align: right;\">\n",
       "      <th></th>\n",
       "      <th>tahun</th>\n",
       "      <th>bulan</th>\n",
       "      <th>wilayah</th>\n",
       "      <th>Kecamatan</th>\n",
       "      <th>pam</th>\n",
       "      <th>pat</th>\n",
       "      <th>elevasi</th>\n",
       "    </tr>\n",
       "  </thead>\n",
       "  <tbody>\n",
       "    <tr>\n",
       "      <th>0</th>\n",
       "      <td>2018</td>\n",
       "      <td>January</td>\n",
       "      <td>Jakarta Barat</td>\n",
       "      <td>Kalideres</td>\n",
       "      <td>1154930</td>\n",
       "      <td>17945</td>\n",
       "      <td>5.352066</td>\n",
       "    </tr>\n",
       "    <tr>\n",
       "      <th>1</th>\n",
       "      <td>2018</td>\n",
       "      <td>January</td>\n",
       "      <td>Jakarta Barat</td>\n",
       "      <td>Cengkareng</td>\n",
       "      <td>883655</td>\n",
       "      <td>13730</td>\n",
       "      <td>3.352066</td>\n",
       "    </tr>\n",
       "    <tr>\n",
       "      <th>2</th>\n",
       "      <td>2018</td>\n",
       "      <td>January</td>\n",
       "      <td>Jakarta Barat</td>\n",
       "      <td>Tambora</td>\n",
       "      <td>128</td>\n",
       "      <td>2</td>\n",
       "      <td>4.352066</td>\n",
       "    </tr>\n",
       "    <tr>\n",
       "      <th>3</th>\n",
       "      <td>2018</td>\n",
       "      <td>January</td>\n",
       "      <td>Jakarta Barat</td>\n",
       "      <td>Grogol Petamburan</td>\n",
       "      <td>373284</td>\n",
       "      <td>5800</td>\n",
       "      <td>4.352066</td>\n",
       "    </tr>\n",
       "    <tr>\n",
       "      <th>4</th>\n",
       "      <td>2018</td>\n",
       "      <td>January</td>\n",
       "      <td>Jakarta Barat</td>\n",
       "      <td>Taman Sari</td>\n",
       "      <td>207430</td>\n",
       "      <td>3223</td>\n",
       "      <td>5.352066</td>\n",
       "    </tr>\n",
       "    <tr>\n",
       "      <th>...</th>\n",
       "      <td>...</td>\n",
       "      <td>...</td>\n",
       "      <td>...</td>\n",
       "      <td>...</td>\n",
       "      <td>...</td>\n",
       "      <td>...</td>\n",
       "      <td>...</td>\n",
       "    </tr>\n",
       "    <tr>\n",
       "      <th>1507</th>\n",
       "      <td>2020</td>\n",
       "      <td>December</td>\n",
       "      <td>Jakarta Selatan</td>\n",
       "      <td>Pesanggrahan</td>\n",
       "      <td>410806</td>\n",
       "      <td>6383</td>\n",
       "      <td>22.131616</td>\n",
       "    </tr>\n",
       "    <tr>\n",
       "      <th>1508</th>\n",
       "      <td>2020</td>\n",
       "      <td>December</td>\n",
       "      <td>Jakarta Selatan</td>\n",
       "      <td>Pasar Minggu</td>\n",
       "      <td>3304537</td>\n",
       "      <td>51345</td>\n",
       "      <td>39.131616</td>\n",
       "    </tr>\n",
       "    <tr>\n",
       "      <th>1509</th>\n",
       "      <td>2020</td>\n",
       "      <td>December</td>\n",
       "      <td>Jakarta Selatan</td>\n",
       "      <td>Jagakarsa</td>\n",
       "      <td>872457</td>\n",
       "      <td>13556</td>\n",
       "      <td>62.131616</td>\n",
       "    </tr>\n",
       "    <tr>\n",
       "      <th>1510</th>\n",
       "      <td>2020</td>\n",
       "      <td>December</td>\n",
       "      <td>Jakarta Selatan</td>\n",
       "      <td>Mampang Prapatan</td>\n",
       "      <td>1110973</td>\n",
       "      <td>17262</td>\n",
       "      <td>26.131616</td>\n",
       "    </tr>\n",
       "    <tr>\n",
       "      <th>1511</th>\n",
       "      <td>2020</td>\n",
       "      <td>December</td>\n",
       "      <td>Jakarta Selatan</td>\n",
       "      <td>Pancoran</td>\n",
       "      <td>1514635</td>\n",
       "      <td>23534</td>\n",
       "      <td>25.131616</td>\n",
       "    </tr>\n",
       "  </tbody>\n",
       "</table>\n",
       "<p>1512 rows × 7 columns</p>\n",
       "</div>"
      ],
      "text/plain": [
       "      tahun     bulan          wilayah          Kecamatan      pam    pat  \\\n",
       "0      2018   January    Jakarta Barat          Kalideres  1154930  17945   \n",
       "1      2018   January    Jakarta Barat         Cengkareng   883655  13730   \n",
       "2      2018   January    Jakarta Barat            Tambora      128      2   \n",
       "3      2018   January    Jakarta Barat  Grogol Petamburan   373284   5800   \n",
       "4      2018   January    Jakarta Barat         Taman Sari   207430   3223   \n",
       "...     ...       ...              ...                ...      ...    ...   \n",
       "1507   2020  December  Jakarta Selatan       Pesanggrahan   410806   6383   \n",
       "1508   2020  December  Jakarta Selatan       Pasar Minggu  3304537  51345   \n",
       "1509   2020  December  Jakarta Selatan          Jagakarsa   872457  13556   \n",
       "1510   2020  December  Jakarta Selatan   Mampang Prapatan  1110973  17262   \n",
       "1511   2020  December  Jakarta Selatan           Pancoran  1514635  23534   \n",
       "\n",
       "        elevasi  \n",
       "0      5.352066  \n",
       "1      3.352066  \n",
       "2      4.352066  \n",
       "3      4.352066  \n",
       "4      5.352066  \n",
       "...         ...  \n",
       "1507  22.131616  \n",
       "1508  39.131616  \n",
       "1509  62.131616  \n",
       "1510  26.131616  \n",
       "1511  25.131616  \n",
       "\n",
       "[1512 rows x 7 columns]"
      ]
     },
     "execution_count": 5,
     "metadata": {},
     "output_type": "execute_result"
    }
   ],
   "source": [
    "df"
   ]
  },
  {
   "cell_type": "markdown",
   "metadata": {},
   "source": [
    "## Splitting Data"
   ]
  },
  {
   "cell_type": "code",
   "execution_count": 6,
   "metadata": {},
   "outputs": [],
   "source": [
    "from sklearn.model_selection import train_test_split"
   ]
  },
  {
   "cell_type": "code",
   "execution_count": 7,
   "metadata": {},
   "outputs": [],
   "source": [
    "X = df.drop(columns=['elevasi'])\n",
    "y = df['elevasi']"
   ]
  },
  {
   "cell_type": "code",
   "execution_count": 8,
   "metadata": {},
   "outputs": [],
   "source": [
    "X_train, X_test, y_train, y_test = train_test_split(X, y, test_size=0.2, random_state=42)"
   ]
  },
  {
   "cell_type": "code",
   "execution_count": 9,
   "metadata": {},
   "outputs": [
    {
     "data": {
      "text/plain": [
       "Index(['tahun', 'bulan', 'wilayah', 'Kecamatan', 'pam', 'pat'], dtype='object')"
      ]
     },
     "execution_count": 9,
     "metadata": {},
     "output_type": "execute_result"
    }
   ],
   "source": [
    "X_train.columns"
   ]
  },
  {
   "cell_type": "markdown",
   "metadata": {},
   "source": [
    "## 1. Decision Tree"
   ]
  },
  {
   "cell_type": "code",
   "execution_count": 10,
   "metadata": {},
   "outputs": [],
   "source": [
    "from sklearn.tree import DecisionTreeRegressor\n",
    "from sklearn.pipeline import Pipeline\n",
    "from sklearn.preprocessing import OneHotEncoder, PolynomialFeatures\n",
    "from sklearn.compose import ColumnTransformer\n",
    "import warnings\n",
    "warnings.filterwarnings('ignore')\n",
    "\n",
    "from sklearn.model_selection import GridSearchCV"
   ]
  },
  {
   "cell_type": "code",
   "execution_count": 11,
   "metadata": {},
   "outputs": [],
   "source": [
    "transform = ColumnTransformer([\n",
    "    (\"encode\", OneHotEncoder(), ['bulan','wilayah','Kecamatan'])\n",
    "], remainder = 'passthrough')"
   ]
  },
  {
   "cell_type": "code",
   "execution_count": 12,
   "metadata": {},
   "outputs": [],
   "source": [
    "poly = Pipeline([\n",
    "    (\"transform\", transform),\n",
    "    (\"poly\", PolynomialFeatures())\n",
    "])\n",
    "\n",
    "hype_DT = Pipeline([\n",
    "    (\"encode\", transform),\n",
    "    (\"algo\", DecisionTreeRegressor())\n",
    "])"
   ]
  },
  {
   "cell_type": "code",
   "execution_count": 13,
   "metadata": {},
   "outputs": [],
   "source": [
    "hype_DT = Pipeline([\n",
    "    (\"encode\", transform),\n",
    "    (\"algo\", DecisionTreeRegressor())\n",
    "])"
   ]
  },
  {
   "cell_type": "code",
   "execution_count": 14,
   "metadata": {},
   "outputs": [
    {
     "data": {
      "text/plain": [
       "{'memory': None,\n",
       " 'steps': [('encode',\n",
       "   ColumnTransformer(n_jobs=None, remainder='passthrough', sparse_threshold=0.3,\n",
       "                     transformer_weights=None,\n",
       "                     transformers=[('encode',\n",
       "                                    OneHotEncoder(categories='auto', drop=None,\n",
       "                                                  dtype=<class 'numpy.float64'>,\n",
       "                                                  handle_unknown='error',\n",
       "                                                  sparse=True),\n",
       "                                    ['bulan', 'wilayah', 'Kecamatan'])],\n",
       "                     verbose=False)),\n",
       "  ('algo',\n",
       "   DecisionTreeRegressor(ccp_alpha=0.0, criterion='mse', max_depth=None,\n",
       "                         max_features=None, max_leaf_nodes=None,\n",
       "                         min_impurity_decrease=0.0, min_impurity_split=None,\n",
       "                         min_samples_leaf=1, min_samples_split=2,\n",
       "                         min_weight_fraction_leaf=0.0, presort='deprecated',\n",
       "                         random_state=None, splitter='best'))],\n",
       " 'verbose': False,\n",
       " 'encode': ColumnTransformer(n_jobs=None, remainder='passthrough', sparse_threshold=0.3,\n",
       "                   transformer_weights=None,\n",
       "                   transformers=[('encode',\n",
       "                                  OneHotEncoder(categories='auto', drop=None,\n",
       "                                                dtype=<class 'numpy.float64'>,\n",
       "                                                handle_unknown='error',\n",
       "                                                sparse=True),\n",
       "                                  ['bulan', 'wilayah', 'Kecamatan'])],\n",
       "                   verbose=False),\n",
       " 'algo': DecisionTreeRegressor(ccp_alpha=0.0, criterion='mse', max_depth=None,\n",
       "                       max_features=None, max_leaf_nodes=None,\n",
       "                       min_impurity_decrease=0.0, min_impurity_split=None,\n",
       "                       min_samples_leaf=1, min_samples_split=2,\n",
       "                       min_weight_fraction_leaf=0.0, presort='deprecated',\n",
       "                       random_state=None, splitter='best'),\n",
       " 'encode__n_jobs': None,\n",
       " 'encode__remainder': 'passthrough',\n",
       " 'encode__sparse_threshold': 0.3,\n",
       " 'encode__transformer_weights': None,\n",
       " 'encode__transformers': [('encode',\n",
       "   OneHotEncoder(categories='auto', drop=None, dtype=<class 'numpy.float64'>,\n",
       "                 handle_unknown='error', sparse=True),\n",
       "   ['bulan', 'wilayah', 'Kecamatan'])],\n",
       " 'encode__verbose': False,\n",
       " 'encode__encode': OneHotEncoder(categories='auto', drop=None, dtype=<class 'numpy.float64'>,\n",
       "               handle_unknown='error', sparse=True),\n",
       " 'encode__encode__categories': 'auto',\n",
       " 'encode__encode__drop': None,\n",
       " 'encode__encode__dtype': numpy.float64,\n",
       " 'encode__encode__handle_unknown': 'error',\n",
       " 'encode__encode__sparse': True,\n",
       " 'algo__ccp_alpha': 0.0,\n",
       " 'algo__criterion': 'mse',\n",
       " 'algo__max_depth': None,\n",
       " 'algo__max_features': None,\n",
       " 'algo__max_leaf_nodes': None,\n",
       " 'algo__min_impurity_decrease': 0.0,\n",
       " 'algo__min_impurity_split': None,\n",
       " 'algo__min_samples_leaf': 1,\n",
       " 'algo__min_samples_split': 2,\n",
       " 'algo__min_weight_fraction_leaf': 0.0,\n",
       " 'algo__presort': 'deprecated',\n",
       " 'algo__random_state': None,\n",
       " 'algo__splitter': 'best'}"
      ]
     },
     "execution_count": 14,
     "metadata": {},
     "output_type": "execute_result"
    }
   ],
   "source": [
    "hype_DT.get_params()"
   ]
  },
  {
   "cell_type": "code",
   "execution_count": 15,
   "metadata": {},
   "outputs": [],
   "source": [
    "param_DT = {\n",
    "    'algo__max_depth': [None, 3, 5, 7],\n",
    "    'algo__min_samples_leaf': range(1, 10, 2),\n",
    "    'algo__min_samples_split': range(2, 20, 2),\n",
    "    'algo__max_features': [None, 'log2', 'sqrt']\n",
    "}"
   ]
  },
  {
   "cell_type": "code",
   "execution_count": 16,
   "metadata": {},
   "outputs": [],
   "source": [
    "DT_GS = GridSearchCV(hype_DT, param_DT, cv=3, verbose=False)"
   ]
  },
  {
   "cell_type": "code",
   "execution_count": 17,
   "metadata": {},
   "outputs": [
    {
     "data": {
      "text/plain": [
       "GridSearchCV(cv=3, error_score=nan,\n",
       "             estimator=Pipeline(memory=None,\n",
       "                                steps=[('encode',\n",
       "                                        ColumnTransformer(n_jobs=None,\n",
       "                                                          remainder='passthrough',\n",
       "                                                          sparse_threshold=0.3,\n",
       "                                                          transformer_weights=None,\n",
       "                                                          transformers=[('encode',\n",
       "                                                                         OneHotEncoder(categories='auto',\n",
       "                                                                                       drop=None,\n",
       "                                                                                       dtype=<class 'numpy.float64'>,\n",
       "                                                                                       handle_unknown='error',\n",
       "                                                                                       sparse=True),\n",
       "                                                                         ['bulan',\n",
       "                                                                          'wilayah',\n",
       "                                                                          'Kecamatan'])],\n",
       "                                                          ver...\n",
       "                                                              presort='deprecated',\n",
       "                                                              random_state=None,\n",
       "                                                              splitter='best'))],\n",
       "                                verbose=False),\n",
       "             iid='deprecated', n_jobs=None,\n",
       "             param_grid={'algo__max_depth': [None, 3, 5, 7],\n",
       "                         'algo__max_features': [None, 'log2', 'sqrt'],\n",
       "                         'algo__min_samples_leaf': range(1, 10, 2),\n",
       "                         'algo__min_samples_split': range(2, 20, 2)},\n",
       "             pre_dispatch='2*n_jobs', refit=True, return_train_score=False,\n",
       "             scoring=None, verbose=False)"
      ]
     },
     "execution_count": 17,
     "metadata": {},
     "output_type": "execute_result"
    }
   ],
   "source": [
    "DT_GS.fit(X_train, y_train)"
   ]
  },
  {
   "cell_type": "code",
   "execution_count": 18,
   "metadata": {},
   "outputs": [
    {
     "data": {
      "text/plain": [
       "{'algo__max_depth': None,\n",
       " 'algo__max_features': None,\n",
       " 'algo__min_samples_leaf': 1,\n",
       " 'algo__min_samples_split': 2}"
      ]
     },
     "execution_count": 18,
     "metadata": {},
     "output_type": "execute_result"
    }
   ],
   "source": [
    "DT_GS.best_params_"
   ]
  },
  {
   "cell_type": "code",
   "execution_count": 19,
   "metadata": {},
   "outputs": [],
   "source": [
    "model_DT = Pipeline([\n",
    "    (\"encode\", transform),\n",
    "    (\"algo\", DecisionTreeRegressor(max_depth=None, max_features=None, min_samples_leaf= 1, min_samples_split= 4))\n",
    "])"
   ]
  },
  {
   "cell_type": "code",
   "execution_count": 20,
   "metadata": {},
   "outputs": [
    {
     "data": {
      "text/plain": [
       "Pipeline(memory=None,\n",
       "         steps=[('encode',\n",
       "                 ColumnTransformer(n_jobs=None, remainder='passthrough',\n",
       "                                   sparse_threshold=0.3,\n",
       "                                   transformer_weights=None,\n",
       "                                   transformers=[('encode',\n",
       "                                                  OneHotEncoder(categories='auto',\n",
       "                                                                drop=None,\n",
       "                                                                dtype=<class 'numpy.float64'>,\n",
       "                                                                handle_unknown='error',\n",
       "                                                                sparse=True),\n",
       "                                                  ['bulan', 'wilayah',\n",
       "                                                   'Kecamatan'])],\n",
       "                                   verbose=False)),\n",
       "                ('algo',\n",
       "                 DecisionTreeRegressor(ccp_alpha=0.0, criterion='mse',\n",
       "                                       max_depth=None, max_features=None,\n",
       "                                       max_leaf_nodes=None,\n",
       "                                       min_impurity_decrease=0.0,\n",
       "                                       min_impurity_split=None,\n",
       "                                       min_samples_leaf=1, min_samples_split=4,\n",
       "                                       min_weight_fraction_leaf=0.0,\n",
       "                                       presort='deprecated', random_state=None,\n",
       "                                       splitter='best'))],\n",
       "         verbose=False)"
      ]
     },
     "execution_count": 20,
     "metadata": {},
     "output_type": "execute_result"
    }
   ],
   "source": [
    "model_DT.fit(X_train, y_train)"
   ]
  },
  {
   "cell_type": "code",
   "execution_count": 21,
   "metadata": {},
   "outputs": [],
   "source": [
    "y_predDT = model_DT.predict(X_test)"
   ]
  },
  {
   "cell_type": "code",
   "execution_count": 22,
   "metadata": {},
   "outputs": [],
   "source": [
    "from sklearn.metrics import r2_score"
   ]
  },
  {
   "cell_type": "code",
   "execution_count": 23,
   "metadata": {
    "scrolled": true
   },
   "outputs": [
    {
     "data": {
      "text/plain": [
       "0.9984934528157273"
      ]
     },
     "execution_count": 23,
     "metadata": {},
     "output_type": "execute_result"
    }
   ],
   "source": [
    "r2_score(y_test, y_predDT)"
   ]
  },
  {
   "cell_type": "code",
   "execution_count": 24,
   "metadata": {},
   "outputs": [],
   "source": [
    "from jcopml.plot import plot_actual_vs_prediction, plot_residual"
   ]
  },
  {
   "cell_type": "code",
   "execution_count": 25,
   "metadata": {},
   "outputs": [
    {
     "data": {
      "image/png": "[encoded data removed]",
      "text/plain": [
       "<Figure size 792x360 with 2 Axes>"
      ]
     },
     "metadata": {
      "needs_background": "light"
     },
     "output_type": "display_data"
    }
   ],
   "source": [
    "plot_actual_vs_prediction(X_train, y_train, X_test, y_test, model_DT)"
   ]
  },
  {
   "cell_type": "markdown",
   "metadata": {},
   "source": [
    "## 2. RandomForest"
   ]
  },
  {
   "cell_type": "code",
   "execution_count": 26,
   "metadata": {},
   "outputs": [],
   "source": [
    "from sklearn.ensemble import RandomForestRegressor"
   ]
  },
  {
   "cell_type": "code",
   "execution_count": 27,
   "metadata": {},
   "outputs": [],
   "source": [
    "hype_RF = Pipeline([\n",
    "    (\"encode\", transform),\n",
    "    (\"algo\", RandomForestRegressor())\n",
    "])"
   ]
  },
  {
   "cell_type": "code",
   "execution_count": 28,
   "metadata": {},
   "outputs": [
    {
     "data": {
      "text/plain": [
       "{'memory': None,\n",
       " 'steps': [('encode',\n",
       "   ColumnTransformer(n_jobs=None, remainder='passthrough', sparse_threshold=0.3,\n",
       "                     transformer_weights=None,\n",
       "                     transformers=[('encode',\n",
       "                                    OneHotEncoder(categories='auto', drop=None,\n",
       "                                                  dtype=<class 'numpy.float64'>,\n",
       "                                                  handle_unknown='error',\n",
       "                                                  sparse=True),\n",
       "                                    ['bulan', 'wilayah', 'Kecamatan'])],\n",
       "                     verbose=False)),\n",
       "  ('algo',\n",
       "   RandomForestRegressor(bootstrap=True, ccp_alpha=0.0, criterion='mse',\n",
       "                         max_depth=None, max_features='auto', max_leaf_nodes=None,\n",
       "                         max_samples=None, min_impurity_decrease=0.0,\n",
       "                         min_impurity_split=None, min_samples_leaf=1,\n",
       "                         min_samples_split=2, min_weight_fraction_leaf=0.0,\n",
       "                         n_estimators=100, n_jobs=None, oob_score=False,\n",
       "                         random_state=None, verbose=0, warm_start=False))],\n",
       " 'verbose': False,\n",
       " 'encode': ColumnTransformer(n_jobs=None, remainder='passthrough', sparse_threshold=0.3,\n",
       "                   transformer_weights=None,\n",
       "                   transformers=[('encode',\n",
       "                                  OneHotEncoder(categories='auto', drop=None,\n",
       "                                                dtype=<class 'numpy.float64'>,\n",
       "                                                handle_unknown='error',\n",
       "                                                sparse=True),\n",
       "                                  ['bulan', 'wilayah', 'Kecamatan'])],\n",
       "                   verbose=False),\n",
       " 'algo': RandomForestRegressor(bootstrap=True, ccp_alpha=0.0, criterion='mse',\n",
       "                       max_depth=None, max_features='auto', max_leaf_nodes=None,\n",
       "                       max_samples=None, min_impurity_decrease=0.0,\n",
       "                       min_impurity_split=None, min_samples_leaf=1,\n",
       "                       min_samples_split=2, min_weight_fraction_leaf=0.0,\n",
       "                       n_estimators=100, n_jobs=None, oob_score=False,\n",
       "                       random_state=None, verbose=0, warm_start=False),\n",
       " 'encode__n_jobs': None,\n",
       " 'encode__remainder': 'passthrough',\n",
       " 'encode__sparse_threshold': 0.3,\n",
       " 'encode__transformer_weights': None,\n",
       " 'encode__transformers': [('encode',\n",
       "   OneHotEncoder(categories='auto', drop=None, dtype=<class 'numpy.float64'>,\n",
       "                 handle_unknown='error', sparse=True),\n",
       "   ['bulan', 'wilayah', 'Kecamatan'])],\n",
       " 'encode__verbose': False,\n",
       " 'encode__encode': OneHotEncoder(categories='auto', drop=None, dtype=<class 'numpy.float64'>,\n",
       "               handle_unknown='error', sparse=True),\n",
       " 'encode__encode__categories': 'auto',\n",
       " 'encode__encode__drop': None,\n",
       " 'encode__encode__dtype': numpy.float64,\n",
       " 'encode__encode__handle_unknown': 'error',\n",
       " 'encode__encode__sparse': True,\n",
       " 'algo__bootstrap': True,\n",
       " 'algo__ccp_alpha': 0.0,\n",
       " 'algo__criterion': 'mse',\n",
       " 'algo__max_depth': None,\n",
       " 'algo__max_features': 'auto',\n",
       " 'algo__max_leaf_nodes': None,\n",
       " 'algo__max_samples': None,\n",
       " 'algo__min_impurity_decrease': 0.0,\n",
       " 'algo__min_impurity_split': None,\n",
       " 'algo__min_samples_leaf': 1,\n",
       " 'algo__min_samples_split': 2,\n",
       " 'algo__min_weight_fraction_leaf': 0.0,\n",
       " 'algo__n_estimators': 100,\n",
       " 'algo__n_jobs': None,\n",
       " 'algo__oob_score': False,\n",
       " 'algo__random_state': None,\n",
       " 'algo__verbose': 0,\n",
       " 'algo__warm_start': False}"
      ]
     },
     "execution_count": 28,
     "metadata": {},
     "output_type": "execute_result"
    }
   ],
   "source": [
    "hype_RF.get_params()"
   ]
  },
  {
   "cell_type": "code",
   "execution_count": 29,
   "metadata": {},
   "outputs": [],
   "source": [
    "params_RF = {\n",
    "    'algo__n_estimators': range(100, 200, 50),\n",
    "    'algo__max_depth': [None, 3, 5, 7],\n",
    "    'algo__min_samples_leaf': range(1, 10, 2),\n",
    "    'algo__min_samples_split': range(2, 20, 4),\n",
    "    'algo__max_features': ['auto', None, 'sqrt']\n",
    "}"
   ]
  },
  {
   "cell_type": "code",
   "execution_count": 30,
   "metadata": {},
   "outputs": [],
   "source": [
    "RF_gs = GridSearchCV(hype_RF, params_RF, cv=3, n_jobs=-1, verbose=False)"
   ]
  },
  {
   "cell_type": "code",
   "execution_count": 31,
   "metadata": {
    "scrolled": true
   },
   "outputs": [
    {
     "data": {
      "text/plain": [
       "GridSearchCV(cv=3, error_score=nan,\n",
       "             estimator=Pipeline(memory=None,\n",
       "                                steps=[('encode',\n",
       "                                        ColumnTransformer(n_jobs=None,\n",
       "                                                          remainder='passthrough',\n",
       "                                                          sparse_threshold=0.3,\n",
       "                                                          transformer_weights=None,\n",
       "                                                          transformers=[('encode',\n",
       "                                                                         OneHotEncoder(categories='auto',\n",
       "                                                                                       drop=None,\n",
       "                                                                                       dtype=<class 'numpy.float64'>,\n",
       "                                                                                       handle_unknown='error',\n",
       "                                                                                       sparse=True),\n",
       "                                                                         ['bulan',\n",
       "                                                                          'wilayah',\n",
       "                                                                          'Kecamatan'])],\n",
       "                                                          ver...\n",
       "                                                              warm_start=False))],\n",
       "                                verbose=False),\n",
       "             iid='deprecated', n_jobs=-1,\n",
       "             param_grid={'algo__max_depth': [None, 3, 5, 7],\n",
       "                         'algo__max_features': ['auto', None, 'sqrt'],\n",
       "                         'algo__min_samples_leaf': range(1, 10, 2),\n",
       "                         'algo__min_samples_split': range(2, 20, 4),\n",
       "                         'algo__n_estimators': range(100, 200, 50)},\n",
       "             pre_dispatch='2*n_jobs', refit=True, return_train_score=False,\n",
       "             scoring=None, verbose=False)"
      ]
     },
     "execution_count": 31,
     "metadata": {},
     "output_type": "execute_result"
    }
   ],
   "source": [
    "RF_gs.fit(X_train, y_train)"
   ]
  },
  {
   "cell_type": "code",
   "execution_count": 32,
   "metadata": {},
   "outputs": [
    {
     "data": {
      "text/plain": [
       "{'algo__max_depth': None,\n",
       " 'algo__max_features': None,\n",
       " 'algo__min_samples_leaf': 1,\n",
       " 'algo__min_samples_split': 18,\n",
       " 'algo__n_estimators': 150}"
      ]
     },
     "execution_count": 32,
     "metadata": {},
     "output_type": "execute_result"
    }
   ],
   "source": [
    "RF_gs.best_params_"
   ]
  },
  {
   "cell_type": "code",
   "execution_count": 33,
   "metadata": {},
   "outputs": [],
   "source": [
    "model_RF = Pipeline([\n",
    "    (\"encode\", transform),\n",
    "    (\"algo\", RandomForestRegressor(max_depth=None, max_features=None, min_samples_leaf= 1, min_samples_split= 18, n_estimators=150))\n",
    "])"
   ]
  },
  {
   "cell_type": "code",
   "execution_count": 34,
   "metadata": {},
   "outputs": [
    {
     "data": {
      "text/plain": [
       "Pipeline(memory=None,\n",
       "         steps=[('encode',\n",
       "                 ColumnTransformer(n_jobs=None, remainder='passthrough',\n",
       "                                   sparse_threshold=0.3,\n",
       "                                   transformer_weights=None,\n",
       "                                   transformers=[('encode',\n",
       "                                                  OneHotEncoder(categories='auto',\n",
       "                                                                drop=None,\n",
       "                                                                dtype=<class 'numpy.float64'>,\n",
       "                                                                handle_unknown='error',\n",
       "                                                                sparse=True),\n",
       "                                                  ['bulan', 'wilayah',\n",
       "                                                   'Kecamatan'])],\n",
       "                                   verbose=False)),\n",
       "                ('algo',\n",
       "                 RandomForestRegressor(bootstrap=True, ccp_alpha=0.0,\n",
       "                                       criterion='mse', max_depth=None,\n",
       "                                       max_features=None, max_leaf_nodes=None,\n",
       "                                       max_samples=None,\n",
       "                                       min_impurity_decrease=0.0,\n",
       "                                       min_impurity_split=None,\n",
       "                                       min_samples_leaf=1, min_samples_split=18,\n",
       "                                       min_weight_fraction_leaf=0.0,\n",
       "                                       n_estimators=150, n_jobs=None,\n",
       "                                       oob_score=False, random_state=None,\n",
       "                                       verbose=0, warm_start=False))],\n",
       "         verbose=False)"
      ]
     },
     "execution_count": 34,
     "metadata": {},
     "output_type": "execute_result"
    }
   ],
   "source": [
    "model_RF.fit(X_train, y_train)"
   ]
  },
  {
   "cell_type": "code",
   "execution_count": 35,
   "metadata": {},
   "outputs": [],
   "source": [
    "y_predRF = model_RF.predict(X_test)"
   ]
  },
  {
   "cell_type": "code",
   "execution_count": 36,
   "metadata": {
    "scrolled": true
   },
   "outputs": [
    {
     "data": {
      "text/plain": [
       "0.9991725554331533"
      ]
     },
     "execution_count": 36,
     "metadata": {},
     "output_type": "execute_result"
    }
   ],
   "source": [
    "r2_score(y_test, y_predRF)"
   ]
  },
  {
   "cell_type": "code",
   "execution_count": 37,
   "metadata": {},
   "outputs": [
    {
     "data": {
      "image/png": "[encoded data removed]",
      "text/plain": [
       "<Figure size 792x360 with 2 Axes>"
      ]
     },
     "metadata": {
      "needs_background": "light"
     },
     "output_type": "display_data"
    }
   ],
   "source": [
    "plot_actual_vs_prediction(X_train, y_train, X_test, y_test, model_RF)"
   ]
  },
  {
   "cell_type": "markdown",
   "metadata": {},
   "source": [
    "## 3. Support Vector Regression"
   ]
  },
  {
   "cell_type": "code",
   "execution_count": 38,
   "metadata": {},
   "outputs": [],
   "source": [
    "from sklearn.svm import SVR"
   ]
  },
  {
   "cell_type": "code",
   "execution_count": 39,
   "metadata": {},
   "outputs": [],
   "source": [
    "hype_SVR = Pipeline([\n",
    "    (\"encode\", transform),\n",
    "    (\"algo\", SVR())\n",
    "])"
   ]
  },
  {
   "cell_type": "code",
   "execution_count": 40,
   "metadata": {},
   "outputs": [
    {
     "data": {
      "text/plain": [
       "{'memory': None,\n",
       " 'steps': [('encode',\n",
       "   ColumnTransformer(n_jobs=None, remainder='passthrough', sparse_threshold=0.3,\n",
       "                     transformer_weights=None,\n",
       "                     transformers=[('encode',\n",
       "                                    OneHotEncoder(categories='auto', drop=None,\n",
       "                                                  dtype=<class 'numpy.float64'>,\n",
       "                                                  handle_unknown='error',\n",
       "                                                  sparse=True),\n",
       "                                    ['bulan', 'wilayah', 'Kecamatan'])],\n",
       "                     verbose=False)),\n",
       "  ('algo',\n",
       "   SVR(C=1.0, cache_size=200, coef0=0.0, degree=3, epsilon=0.1, gamma='scale',\n",
       "       kernel='rbf', max_iter=-1, shrinking=True, tol=0.001, verbose=False))],\n",
       " 'verbose': False,\n",
       " 'encode': ColumnTransformer(n_jobs=None, remainder='passthrough', sparse_threshold=0.3,\n",
       "                   transformer_weights=None,\n",
       "                   transformers=[('encode',\n",
       "                                  OneHotEncoder(categories='auto', drop=None,\n",
       "                                                dtype=<class 'numpy.float64'>,\n",
       "                                                handle_unknown='error',\n",
       "                                                sparse=True),\n",
       "                                  ['bulan', 'wilayah', 'Kecamatan'])],\n",
       "                   verbose=False),\n",
       " 'algo': SVR(C=1.0, cache_size=200, coef0=0.0, degree=3, epsilon=0.1, gamma='scale',\n",
       "     kernel='rbf', max_iter=-1, shrinking=True, tol=0.001, verbose=False),\n",
       " 'encode__n_jobs': None,\n",
       " 'encode__remainder': 'passthrough',\n",
       " 'encode__sparse_threshold': 0.3,\n",
       " 'encode__transformer_weights': None,\n",
       " 'encode__transformers': [('encode',\n",
       "   OneHotEncoder(categories='auto', drop=None, dtype=<class 'numpy.float64'>,\n",
       "                 handle_unknown='error', sparse=True),\n",
       "   ['bulan', 'wilayah', 'Kecamatan'])],\n",
       " 'encode__verbose': False,\n",
       " 'encode__encode': OneHotEncoder(categories='auto', drop=None, dtype=<class 'numpy.float64'>,\n",
       "               handle_unknown='error', sparse=True),\n",
       " 'encode__encode__categories': 'auto',\n",
       " 'encode__encode__drop': None,\n",
       " 'encode__encode__dtype': numpy.float64,\n",
       " 'encode__encode__handle_unknown': 'error',\n",
       " 'encode__encode__sparse': True,\n",
       " 'algo__C': 1.0,\n",
       " 'algo__cache_size': 200,\n",
       " 'algo__coef0': 0.0,\n",
       " 'algo__degree': 3,\n",
       " 'algo__epsilon': 0.1,\n",
       " 'algo__gamma': 'scale',\n",
       " 'algo__kernel': 'rbf',\n",
       " 'algo__max_iter': -1,\n",
       " 'algo__shrinking': True,\n",
       " 'algo__tol': 0.001,\n",
       " 'algo__verbose': False}"
      ]
     },
     "execution_count": 40,
     "metadata": {},
     "output_type": "execute_result"
    }
   ],
   "source": [
    "hype_SVR.get_params()"
   ]
  },
  {
   "cell_type": "code",
   "execution_count": 41,
   "metadata": {},
   "outputs": [],
   "source": [
    "params_SVR = {\n",
    "    'algo__C': [1.0, 1.e-03, 1.e-02, 1.e-01, 1.e+00, 1.e+01, 1.e+02, 1.e+0],\n",
    "    'algo__gamma': ['scale',1.e-03, 1.e-02, 1.e-01, 1.e+00, 1.e+01, 1.e+02, 1.e+03]\n",
    "}"
   ]
  },
  {
   "cell_type": "code",
   "execution_count": 42,
   "metadata": {},
   "outputs": [],
   "source": [
    "SVR_gs = GridSearchCV(hype_SVR, params_SVR, cv=3, n_jobs=-1, verbose=False)"
   ]
  },
  {
   "cell_type": "code",
   "execution_count": 43,
   "metadata": {},
   "outputs": [
    {
     "data": {
      "text/plain": [
       "GridSearchCV(cv=3, error_score=nan,\n",
       "             estimator=Pipeline(memory=None,\n",
       "                                steps=[('encode',\n",
       "                                        ColumnTransformer(n_jobs=None,\n",
       "                                                          remainder='passthrough',\n",
       "                                                          sparse_threshold=0.3,\n",
       "                                                          transformer_weights=None,\n",
       "                                                          transformers=[('encode',\n",
       "                                                                         OneHotEncoder(categories='auto',\n",
       "                                                                                       drop=None,\n",
       "                                                                                       dtype=<class 'numpy.float64'>,\n",
       "                                                                                       handle_unknown='error',\n",
       "                                                                                       sparse=True),\n",
       "                                                                         ['bulan',\n",
       "                                                                          'wilayah',\n",
       "                                                                          'Kecamatan'])],\n",
       "                                                          ver...\n",
       "                                            degree=3, epsilon=0.1,\n",
       "                                            gamma='scale', kernel='rbf',\n",
       "                                            max_iter=-1, shrinking=True,\n",
       "                                            tol=0.001, verbose=False))],\n",
       "                                verbose=False),\n",
       "             iid='deprecated', n_jobs=-1,\n",
       "             param_grid={'algo__C': [1.0, 0.001, 0.01, 0.1, 1.0, 10.0, 100.0,\n",
       "                                     1.0],\n",
       "                         'algo__gamma': ['scale', 0.001, 0.01, 0.1, 1.0, 10.0,\n",
       "                                         100.0, 1000.0]},\n",
       "             pre_dispatch='2*n_jobs', refit=True, return_train_score=False,\n",
       "             scoring=None, verbose=False)"
      ]
     },
     "execution_count": 43,
     "metadata": {},
     "output_type": "execute_result"
    }
   ],
   "source": [
    "SVR_gs.fit(X_train, y_train)"
   ]
  },
  {
   "cell_type": "code",
   "execution_count": 44,
   "metadata": {},
   "outputs": [
    {
     "data": {
      "text/plain": [
       "{'algo__C': 100.0, 'algo__gamma': 0.01}"
      ]
     },
     "execution_count": 44,
     "metadata": {},
     "output_type": "execute_result"
    }
   ],
   "source": [
    "SVR_gs.best_params_"
   ]
  },
  {
   "cell_type": "code",
   "execution_count": 45,
   "metadata": {},
   "outputs": [],
   "source": [
    "model_SVR = Pipeline([\n",
    "    (\"encode\", transform),\n",
    "    (\"algo\", SVR(C=100, gamma=0.01))\n",
    "])"
   ]
  },
  {
   "cell_type": "code",
   "execution_count": 46,
   "metadata": {},
   "outputs": [
    {
     "data": {
      "text/plain": [
       "Pipeline(memory=None,\n",
       "         steps=[('encode',\n",
       "                 ColumnTransformer(n_jobs=None, remainder='passthrough',\n",
       "                                   sparse_threshold=0.3,\n",
       "                                   transformer_weights=None,\n",
       "                                   transformers=[('encode',\n",
       "                                                  OneHotEncoder(categories='auto',\n",
       "                                                                drop=None,\n",
       "                                                                dtype=<class 'numpy.float64'>,\n",
       "                                                                handle_unknown='error',\n",
       "                                                                sparse=True),\n",
       "                                                  ['bulan', 'wilayah',\n",
       "                                                   'Kecamatan'])],\n",
       "                                   verbose=False)),\n",
       "                ('algo',\n",
       "                 SVR(C=100, cache_size=200, coef0=0.0, degree=3, epsilon=0.1,\n",
       "                     gamma=0.01, kernel='rbf', max_iter=-1, shrinking=True,\n",
       "                     tol=0.001, verbose=False))],\n",
       "         verbose=False)"
      ]
     },
     "execution_count": 46,
     "metadata": {},
     "output_type": "execute_result"
    }
   ],
   "source": [
    "model_SVR.fit(X_train, y_train)"
   ]
  },
  {
   "cell_type": "code",
   "execution_count": 47,
   "metadata": {},
   "outputs": [],
   "source": [
    "y_predSVR = model_SVR.predict(X_test)"
   ]
  },
  {
   "cell_type": "code",
   "execution_count": 48,
   "metadata": {},
   "outputs": [
    {
     "data": {
      "text/plain": [
       "0.10121932090406105"
      ]
     },
     "execution_count": 48,
     "metadata": {},
     "output_type": "execute_result"
    }
   ],
   "source": [
    "r2_score(y_test, y_predSVR)"
   ]
  },
  {
   "cell_type": "code",
   "execution_count": 49,
   "metadata": {},
   "outputs": [
    {
     "data": {
      "image/png": "[encoded data removed]",
      "text/plain": [
       "<Figure size 792x360 with 2 Axes>"
      ]
     },
     "metadata": {
      "needs_background": "light"
     },
     "output_type": "display_data"
    }
   ],
   "source": [
    "plot_actual_vs_prediction(X_train, y_train, X_test, y_test, model_SVR)"
   ]
  },
  {
   "cell_type": "markdown",
   "metadata": {},
   "source": [
    "## Evaluation"
   ]
  },
  {
   "cell_type": "code",
   "execution_count": 50,
   "metadata": {},
   "outputs": [],
   "source": [
    "from sklearn.metrics import mean_absolute_error, mean_squared_error"
   ]
  },
  {
   "cell_type": "code",
   "execution_count": 51,
   "metadata": {},
   "outputs": [],
   "source": [
    "summary = pd.DataFrame()"
   ]
  },
  {
   "cell_type": "code",
   "execution_count": 52,
   "metadata": {},
   "outputs": [],
   "source": [
    "summary['model'] = ['Decision Tree', 'Random Forest','Support Vector Regression']"
   ]
  },
  {
   "cell_type": "code",
   "execution_count": 53,
   "metadata": {},
   "outputs": [],
   "source": [
    "summary['MAE'] = [mean_absolute_error(y_test, y_predDT), mean_absolute_error(y_test, y_predRF), mean_absolute_error(y_test, y_predSVR)]\n",
    "summary['MSE'] = [mean_squared_error(y_test, y_predDT), mean_squared_error(y_test, y_predRF), mean_squared_error(y_test, y_predSVR)]\n",
    "summary['RMSE'] = [np.sqrt(mean_squared_error(y_test, y_predDT)), np.sqrt(mean_squared_error(y_test, y_predRF)),np.sqrt(mean_squared_error(y_test, y_predSVR)),]\n",
    "summary['r2_score'] = [r2_score(y_test, y_predDT), r2_score(y_test, y_predRF), r2_score(y_test, y_predSVR)]"
   ]
  },
  {
   "cell_type": "code",
   "execution_count": 54,
   "metadata": {
    "scrolled": false
   },
   "outputs": [
    {
     "data": {
      "text/html": [
       "<div>\n",
       "<style scoped>\n",
       "    .dataframe tbody tr th:only-of-type {\n",
       "        vertical-align: middle;\n",
       "    }\n",
       "\n",
       "    .dataframe tbody tr th {\n",
       "        vertical-align: top;\n",
       "    }\n",
       "\n",
       "    .dataframe thead th {\n",
       "        text-align: right;\n",
       "    }\n",
       "</style>\n",
       "<table border=\"1\" class=\"dataframe\">\n",
       "  <thead>\n",
       "    <tr style=\"text-align: right;\">\n",
       "      <th></th>\n",
       "      <th>model</th>\n",
       "      <th>MAE</th>\n",
       "      <th>MSE</th>\n",
       "      <th>RMSE</th>\n",
       "      <th>r2_score</th>\n",
       "    </tr>\n",
       "  </thead>\n",
       "  <tbody>\n",
       "    <tr>\n",
       "      <th>0</th>\n",
       "      <td>Decision Tree</td>\n",
       "      <td>0.060268</td>\n",
       "      <td>0.356548</td>\n",
       "      <td>0.597117</td>\n",
       "      <td>0.998493</td>\n",
       "    </tr>\n",
       "    <tr>\n",
       "      <th>1</th>\n",
       "      <td>Random Forest</td>\n",
       "      <td>0.098783</td>\n",
       "      <td>0.195828</td>\n",
       "      <td>0.442524</td>\n",
       "      <td>0.999173</td>\n",
       "    </tr>\n",
       "    <tr>\n",
       "      <th>2</th>\n",
       "      <td>Support Vector Regression</td>\n",
       "      <td>10.820020</td>\n",
       "      <td>212.710604</td>\n",
       "      <td>14.584602</td>\n",
       "      <td>0.101219</td>\n",
       "    </tr>\n",
       "  </tbody>\n",
       "</table>\n",
       "</div>"
      ],
      "text/plain": [
       "                       model        MAE         MSE       RMSE  r2_score\n",
       "0              Decision Tree   0.060268    0.356548   0.597117  0.998493\n",
       "1              Random Forest   0.098783    0.195828   0.442524  0.999173\n",
       "2  Support Vector Regression  10.820020  212.710604  14.584602  0.101219"
      ]
     },
     "execution_count": 54,
     "metadata": {},
     "output_type": "execute_result"
    }
   ],
   "source": [
    "summary"
   ]
  },
  {
   "cell_type": "markdown",
   "metadata": {},
   "source": [
    "## Summary "
   ]
  },
  {
   "cell_type": "markdown",
   "metadata": {},
   "source": [
    "Model dengan r2_score paling baik adalah Random Forest dengan parameter sebagai berikut:\n",
    " 'algo__max_depth': None,\n",
    " 'algo__max_features': None,\n",
    " 'algo__min_samples_leaf': 1,\n",
    " 'algo__min_samples_split': 18,\n",
    " 'algo__n_estimators': 150"
   ]
  }
 ],
 "metadata": {
  "kernelspec": {
   "display_name": "Python [conda env:jcopml]",
   "language": "python",
   "name": "conda-env-jcopml-py"
  },
  "language_info": {
   "codemirror_mode": {
    "name": "ipython",
    "version": 3
   },
   "file_extension": ".py",
   "mimetype": "text/x-python",
   "name": "python",
   "nbconvert_exporter": "python",
   "pygments_lexer": "ipython3",
   "version": "3.7.6"
  }
 },
 "nbformat": 4,
 "nbformat_minor": 4
}
