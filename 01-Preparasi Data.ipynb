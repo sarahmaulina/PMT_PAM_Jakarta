{
 "cells": [
  {
   "cell_type": "code",
   "execution_count": 70,
   "metadata": {},
   "outputs": [],
   "source": [
    "import pandas as pd\n",
    "import numpy as np\n",
    "import matplotlib.pyplot as plt\n",
    "import seaborn as sns\n",
    "%matplotlib inline"
   ]
  },
  {
   "cell_type": "code",
   "execution_count": 71,
   "metadata": {
    "scrolled": false
   },
   "outputs": [
    {
     "data": {
      "text/html": [
       "<div>\n",
       "<style scoped>\n",
       "    .dataframe tbody tr th:only-of-type {\n",
       "        vertical-align: middle;\n",
       "    }\n",
       "\n",
       "    .dataframe tbody tr th {\n",
       "        vertical-align: top;\n",
       "    }\n",
       "\n",
       "    .dataframe thead th {\n",
       "        text-align: right;\n",
       "    }\n",
       "</style>\n",
       "<table border=\"1\" class=\"dataframe\">\n",
       "  <thead>\n",
       "    <tr style=\"text-align: right;\">\n",
       "      <th></th>\n",
       "      <th>Tanggal</th>\n",
       "      <th>Kecamatan</th>\n",
       "      <th>pam</th>\n",
       "      <th>pat</th>\n",
       "      <th>elevasi</th>\n",
       "    </tr>\n",
       "  </thead>\n",
       "  <tbody>\n",
       "    <tr>\n",
       "      <th>0</th>\n",
       "      <td>1/1/2018</td>\n",
       "      <td>Kalideres</td>\n",
       "      <td>1154930</td>\n",
       "      <td>17945</td>\n",
       "      <td>5.352066</td>\n",
       "    </tr>\n",
       "    <tr>\n",
       "      <th>1</th>\n",
       "      <td>1/1/2018</td>\n",
       "      <td>Cengkareng</td>\n",
       "      <td>883655</td>\n",
       "      <td>13730</td>\n",
       "      <td>3.352066</td>\n",
       "    </tr>\n",
       "    <tr>\n",
       "      <th>2</th>\n",
       "      <td>1/1/2018</td>\n",
       "      <td>Tambora</td>\n",
       "      <td>128</td>\n",
       "      <td>2</td>\n",
       "      <td>4.352066</td>\n",
       "    </tr>\n",
       "    <tr>\n",
       "      <th>3</th>\n",
       "      <td>1/1/2018</td>\n",
       "      <td>Grogol Petamburan</td>\n",
       "      <td>373284</td>\n",
       "      <td>5800</td>\n",
       "      <td>4.352066</td>\n",
       "    </tr>\n",
       "    <tr>\n",
       "      <th>4</th>\n",
       "      <td>1/1/2018</td>\n",
       "      <td>Taman Sari</td>\n",
       "      <td>207430</td>\n",
       "      <td>3223</td>\n",
       "      <td>5.352066</td>\n",
       "    </tr>\n",
       "    <tr>\n",
       "      <th>...</th>\n",
       "      <td>...</td>\n",
       "      <td>...</td>\n",
       "      <td>...</td>\n",
       "      <td>...</td>\n",
       "      <td>...</td>\n",
       "    </tr>\n",
       "    <tr>\n",
       "      <th>1507</th>\n",
       "      <td>12/1/2020</td>\n",
       "      <td>Pesanggrahan</td>\n",
       "      <td>410806</td>\n",
       "      <td>6383</td>\n",
       "      <td>22.131616</td>\n",
       "    </tr>\n",
       "    <tr>\n",
       "      <th>1508</th>\n",
       "      <td>12/1/2020</td>\n",
       "      <td>Pasar Minggu</td>\n",
       "      <td>3304537</td>\n",
       "      <td>51345</td>\n",
       "      <td>39.131616</td>\n",
       "    </tr>\n",
       "    <tr>\n",
       "      <th>1509</th>\n",
       "      <td>12/1/2020</td>\n",
       "      <td>Jagakarsa</td>\n",
       "      <td>872457</td>\n",
       "      <td>13556</td>\n",
       "      <td>62.131616</td>\n",
       "    </tr>\n",
       "    <tr>\n",
       "      <th>1510</th>\n",
       "      <td>12/1/2020</td>\n",
       "      <td>Mampang Prapatan</td>\n",
       "      <td>1110973</td>\n",
       "      <td>17262</td>\n",
       "      <td>26.131616</td>\n",
       "    </tr>\n",
       "    <tr>\n",
       "      <th>1511</th>\n",
       "      <td>12/1/2020</td>\n",
       "      <td>Pancoran</td>\n",
       "      <td>1514635</td>\n",
       "      <td>23534</td>\n",
       "      <td>25.131616</td>\n",
       "    </tr>\n",
       "  </tbody>\n",
       "</table>\n",
       "<p>1512 rows × 5 columns</p>\n",
       "</div>"
      ],
      "text/plain": [
       "        Tanggal          Kecamatan      pam    pat    elevasi\n",
       "0      1/1/2018          Kalideres  1154930  17945   5.352066\n",
       "1      1/1/2018         Cengkareng   883655  13730   3.352066\n",
       "2      1/1/2018            Tambora      128      2   4.352066\n",
       "3      1/1/2018  Grogol Petamburan   373284   5800   4.352066\n",
       "4      1/1/2018         Taman Sari   207430   3223   5.352066\n",
       "...         ...                ...      ...    ...        ...\n",
       "1507  12/1/2020       Pesanggrahan   410806   6383  22.131616\n",
       "1508  12/1/2020       Pasar Minggu  3304537  51345  39.131616\n",
       "1509  12/1/2020          Jagakarsa   872457  13556  62.131616\n",
       "1510  12/1/2020   Mampang Prapatan  1110973  17262  26.131616\n",
       "1511  12/1/2020           Pancoran  1514635  23534  25.131616\n",
       "\n",
       "[1512 rows x 5 columns]"
      ]
     },
     "execution_count": 71,
     "metadata": {},
     "output_type": "execute_result"
    }
   ],
   "source": [
    "df=pd.read_csv('dataset_pampat.csv')\n",
    "df"
   ]
  },
  {
   "cell_type": "code",
   "execution_count": 72,
   "metadata": {},
   "outputs": [
    {
     "data": {
      "text/plain": [
       "(1512, 5)"
      ]
     },
     "execution_count": 72,
     "metadata": {},
     "output_type": "execute_result"
    }
   ],
   "source": [
    "df.shape"
   ]
  },
  {
   "cell_type": "code",
   "execution_count": 73,
   "metadata": {
    "scrolled": false
   },
   "outputs": [
    {
     "name": "stdout",
     "output_type": "stream",
     "text": [
      "<class 'pandas.core.frame.DataFrame'>\n",
      "RangeIndex: 1512 entries, 0 to 1511\n",
      "Data columns (total 5 columns):\n",
      " #   Column     Non-Null Count  Dtype  \n",
      "---  ------     --------------  -----  \n",
      " 0   Tanggal    1512 non-null   object \n",
      " 1   Kecamatan  1512 non-null   object \n",
      " 2   pam        1512 non-null   int64  \n",
      " 3   pat        1512 non-null   int64  \n",
      " 4   elevasi    1512 non-null   float64\n",
      "dtypes: float64(1), int64(2), object(2)\n",
      "memory usage: 59.2+ KB\n"
     ]
    }
   ],
   "source": [
    "df.info()"
   ]
  },
  {
   "cell_type": "code",
   "execution_count": 74,
   "metadata": {
    "scrolled": true
   },
   "outputs": [
    {
     "data": {
      "text/html": [
       "<div>\n",
       "<style scoped>\n",
       "    .dataframe tbody tr th:only-of-type {\n",
       "        vertical-align: middle;\n",
       "    }\n",
       "\n",
       "    .dataframe tbody tr th {\n",
       "        vertical-align: top;\n",
       "    }\n",
       "\n",
       "    .dataframe thead th {\n",
       "        text-align: right;\n",
       "    }\n",
       "</style>\n",
       "<table border=\"1\" class=\"dataframe\">\n",
       "  <thead>\n",
       "    <tr style=\"text-align: right;\">\n",
       "      <th></th>\n",
       "      <th>count</th>\n",
       "      <th>mean</th>\n",
       "      <th>std</th>\n",
       "      <th>min</th>\n",
       "      <th>25%</th>\n",
       "      <th>50%</th>\n",
       "      <th>75%</th>\n",
       "      <th>max</th>\n",
       "    </tr>\n",
       "  </thead>\n",
       "  <tbody>\n",
       "    <tr>\n",
       "      <th>pam</th>\n",
       "      <td>1512.0</td>\n",
       "      <td>931005.087963</td>\n",
       "      <td>1.110207e+06</td>\n",
       "      <td>64.00000</td>\n",
       "      <td>172676.000000</td>\n",
       "      <td>621487.000000</td>\n",
       "      <td>1.225404e+06</td>\n",
       "      <td>1.395043e+07</td>\n",
       "    </tr>\n",
       "    <tr>\n",
       "      <th>pat</th>\n",
       "      <td>1512.0</td>\n",
       "      <td>14465.710979</td>\n",
       "      <td>1.725009e+04</td>\n",
       "      <td>1.00000</td>\n",
       "      <td>2683.000000</td>\n",
       "      <td>9656.500000</td>\n",
       "      <td>1.904000e+04</td>\n",
       "      <td>2.167580e+05</td>\n",
       "    </tr>\n",
       "    <tr>\n",
       "      <th>elevasi</th>\n",
       "      <td>1512.0</td>\n",
       "      <td>17.704401</td>\n",
       "      <td>1.697877e+01</td>\n",
       "      <td>1.12972</td>\n",
       "      <td>5.130538</td>\n",
       "      <td>10.261077</td>\n",
       "      <td>2.513162e+01</td>\n",
       "      <td>7.336444e+01</td>\n",
       "    </tr>\n",
       "  </tbody>\n",
       "</table>\n",
       "</div>"
      ],
      "text/plain": [
       "          count           mean           std       min            25%  \\\n",
       "pam      1512.0  931005.087963  1.110207e+06  64.00000  172676.000000   \n",
       "pat      1512.0   14465.710979  1.725009e+04   1.00000    2683.000000   \n",
       "elevasi  1512.0      17.704401  1.697877e+01   1.12972       5.130538   \n",
       "\n",
       "                   50%           75%           max  \n",
       "pam      621487.000000  1.225404e+06  1.395043e+07  \n",
       "pat        9656.500000  1.904000e+04  2.167580e+05  \n",
       "elevasi      10.261077  2.513162e+01  7.336444e+01  "
      ]
     },
     "execution_count": 74,
     "metadata": {},
     "output_type": "execute_result"
    }
   ],
   "source": [
    "df.describe().T"
   ]
  },
  {
   "cell_type": "code",
   "execution_count": 75,
   "metadata": {
    "scrolled": true
   },
   "outputs": [
    {
     "data": {
      "text/html": [
       "<div>\n",
       "<style scoped>\n",
       "    .dataframe tbody tr th:only-of-type {\n",
       "        vertical-align: middle;\n",
       "    }\n",
       "\n",
       "    .dataframe tbody tr th {\n",
       "        vertical-align: top;\n",
       "    }\n",
       "\n",
       "    .dataframe thead th {\n",
       "        text-align: right;\n",
       "    }\n",
       "</style>\n",
       "<table border=\"1\" class=\"dataframe\">\n",
       "  <thead>\n",
       "    <tr style=\"text-align: right;\">\n",
       "      <th></th>\n",
       "      <th>count</th>\n",
       "      <th>unique</th>\n",
       "      <th>top</th>\n",
       "      <th>freq</th>\n",
       "    </tr>\n",
       "  </thead>\n",
       "  <tbody>\n",
       "    <tr>\n",
       "      <th>Tanggal</th>\n",
       "      <td>1512</td>\n",
       "      <td>36</td>\n",
       "      <td>1/1/2020</td>\n",
       "      <td>42</td>\n",
       "    </tr>\n",
       "    <tr>\n",
       "      <th>Kecamatan</th>\n",
       "      <td>1512</td>\n",
       "      <td>42</td>\n",
       "      <td>Ciracas</td>\n",
       "      <td>36</td>\n",
       "    </tr>\n",
       "  </tbody>\n",
       "</table>\n",
       "</div>"
      ],
      "text/plain": [
       "          count unique       top freq\n",
       "Tanggal    1512     36  1/1/2020   42\n",
       "Kecamatan  1512     42   Ciracas   36"
      ]
     },
     "execution_count": 75,
     "metadata": {},
     "output_type": "execute_result"
    }
   ],
   "source": [
    "df.describe(include='O').T"
   ]
  },
  {
   "cell_type": "code",
   "execution_count": 76,
   "metadata": {
    "scrolled": true
   },
   "outputs": [
    {
     "data": {
      "text/plain": [
       "Tanggal      0\n",
       "Kecamatan    0\n",
       "pam          0\n",
       "pat          0\n",
       "elevasi      0\n",
       "dtype: int64"
      ]
     },
     "execution_count": 76,
     "metadata": {},
     "output_type": "execute_result"
    }
   ],
   "source": [
    "df.isnull().sum()"
   ]
  },
  {
   "cell_type": "code",
   "execution_count": 77,
   "metadata": {},
   "outputs": [],
   "source": [
    "desc = []\n",
    "\n",
    "for i in df.columns:\n",
    "    desc.append([\n",
    "        i,\n",
    "        df[i].dtypes,\n",
    "        df[i].isnull().sum(),\n",
    "        round((((df[i].isnull().sum())/(len(df)))*100), 2),\n",
    "        df[i].nunique(),\n",
    "        df[i].drop_duplicates().sample(2).values\n",
    "    ])"
   ]
  },
  {
   "cell_type": "code",
   "execution_count": 78,
   "metadata": {},
   "outputs": [
    {
     "data": {
      "text/html": [
       "<div>\n",
       "<style scoped>\n",
       "    .dataframe tbody tr th:only-of-type {\n",
       "        vertical-align: middle;\n",
       "    }\n",
       "\n",
       "    .dataframe tbody tr th {\n",
       "        vertical-align: top;\n",
       "    }\n",
       "\n",
       "    .dataframe thead th {\n",
       "        text-align: right;\n",
       "    }\n",
       "</style>\n",
       "<table border=\"1\" class=\"dataframe\">\n",
       "  <thead>\n",
       "    <tr style=\"text-align: right;\">\n",
       "      <th></th>\n",
       "      <th>dataFeatures</th>\n",
       "      <th>dataType</th>\n",
       "      <th>null</th>\n",
       "      <th>nullPercentage</th>\n",
       "      <th>unique</th>\n",
       "      <th>uniqueSample</th>\n",
       "    </tr>\n",
       "  </thead>\n",
       "  <tbody>\n",
       "    <tr>\n",
       "      <th>0</th>\n",
       "      <td>Tanggal</td>\n",
       "      <td>object</td>\n",
       "      <td>0</td>\n",
       "      <td>0.0</td>\n",
       "      <td>36</td>\n",
       "      <td>[5/1/2019, 3/1/2019]</td>\n",
       "    </tr>\n",
       "    <tr>\n",
       "      <th>1</th>\n",
       "      <td>Kecamatan</td>\n",
       "      <td>object</td>\n",
       "      <td>0</td>\n",
       "      <td>0.0</td>\n",
       "      <td>42</td>\n",
       "      <td>[Taman Sari, Kemayoran]</td>\n",
       "    </tr>\n",
       "    <tr>\n",
       "      <th>2</th>\n",
       "      <td>pam</td>\n",
       "      <td>int64</td>\n",
       "      <td>0</td>\n",
       "      <td>0.0</td>\n",
       "      <td>1309</td>\n",
       "      <td>[1019389, 671655]</td>\n",
       "    </tr>\n",
       "    <tr>\n",
       "      <th>3</th>\n",
       "      <td>pat</td>\n",
       "      <td>int64</td>\n",
       "      <td>0</td>\n",
       "      <td>0.0</td>\n",
       "      <td>1309</td>\n",
       "      <td>[2114, 25701]</td>\n",
       "    </tr>\n",
       "    <tr>\n",
       "      <th>4</th>\n",
       "      <td>elevasi</td>\n",
       "      <td>float64</td>\n",
       "      <td>0</td>\n",
       "      <td>0.0</td>\n",
       "      <td>96</td>\n",
       "      <td>[10.391615491, 48.242958616]</td>\n",
       "    </tr>\n",
       "  </tbody>\n",
       "</table>\n",
       "</div>"
      ],
      "text/plain": [
       "  dataFeatures dataType  null  nullPercentage  unique  \\\n",
       "0      Tanggal   object     0             0.0      36   \n",
       "1    Kecamatan   object     0             0.0      42   \n",
       "2          pam    int64     0             0.0    1309   \n",
       "3          pat    int64     0             0.0    1309   \n",
       "4      elevasi  float64     0             0.0      96   \n",
       "\n",
       "                   uniqueSample  \n",
       "0          [5/1/2019, 3/1/2019]  \n",
       "1       [Taman Sari, Kemayoran]  \n",
       "2             [1019389, 671655]  \n",
       "3                 [2114, 25701]  \n",
       "4  [10.391615491, 48.242958616]  "
      ]
     },
     "execution_count": 78,
     "metadata": {},
     "output_type": "execute_result"
    }
   ],
   "source": [
    "dfDesc = pd.DataFrame(desc, columns=['dataFeatures', 'dataType', 'null', 'nullPercentage', 'unique', 'uniqueSample'])\n",
    "dfDesc"
   ]
  },
  {
   "cell_type": "markdown",
   "metadata": {},
   "source": [
    "## Penjelasan Tabel"
   ]
  },
  {
   "cell_type": "markdown",
   "metadata": {},
   "source": [
    "1. Tanggal: dari bulan Januari 2018-Desember 2020\n",
    "2. Kecamatan: nama kecamatan di DKI Jakarta dengan total 42 kecamatan\n",
    "3. pam: data penggunaan air minum di tiap kecamatan DKI Jakarta\n",
    "4. pat: data penggunaan air tanah di tiap kecamatan DKI Jakarta\n",
    "5. elevasi: tinggi muka tanah di atas muka laut per kecamatan di DKI Jakarta"
   ]
  },
  {
   "cell_type": "markdown",
   "metadata": {},
   "source": [
    "## Ekstrak Bulan dan Tahun"
   ]
  },
  {
   "cell_type": "code",
   "execution_count": 79,
   "metadata": {},
   "outputs": [],
   "source": [
    "# Mengubah tipe data tanggal dari object ke datetime\n",
    "df['Tanggal']=pd.to_datetime(df['Tanggal'])"
   ]
  },
  {
   "cell_type": "code",
   "execution_count": 80,
   "metadata": {
    "scrolled": true
   },
   "outputs": [
    {
     "name": "stdout",
     "output_type": "stream",
     "text": [
      "<class 'pandas.core.frame.DataFrame'>\n",
      "RangeIndex: 1512 entries, 0 to 1511\n",
      "Data columns (total 5 columns):\n",
      " #   Column     Non-Null Count  Dtype         \n",
      "---  ------     --------------  -----         \n",
      " 0   Tanggal    1512 non-null   datetime64[ns]\n",
      " 1   Kecamatan  1512 non-null   object        \n",
      " 2   pam        1512 non-null   int64         \n",
      " 3   pat        1512 non-null   int64         \n",
      " 4   elevasi    1512 non-null   float64       \n",
      "dtypes: datetime64[ns](1), float64(1), int64(2), object(1)\n",
      "memory usage: 59.2+ KB\n"
     ]
    }
   ],
   "source": [
    "df.info()"
   ]
  },
  {
   "cell_type": "code",
   "execution_count": 81,
   "metadata": {
    "scrolled": true
   },
   "outputs": [],
   "source": [
    "df['bulan'] = df['Tanggal'].dt.month_name()"
   ]
  },
  {
   "cell_type": "code",
   "execution_count": 82,
   "metadata": {},
   "outputs": [],
   "source": [
    "df['bulan_num'] = df['Tanggal'].dt.month"
   ]
  },
  {
   "cell_type": "code",
   "execution_count": 83,
   "metadata": {},
   "outputs": [],
   "source": [
    "df['tahun'] = df['Tanggal'].dt.year"
   ]
  },
  {
   "cell_type": "code",
   "execution_count": 84,
   "metadata": {},
   "outputs": [
    {
     "data": {
      "text/html": [
       "<div>\n",
       "<style scoped>\n",
       "    .dataframe tbody tr th:only-of-type {\n",
       "        vertical-align: middle;\n",
       "    }\n",
       "\n",
       "    .dataframe tbody tr th {\n",
       "        vertical-align: top;\n",
       "    }\n",
       "\n",
       "    .dataframe thead th {\n",
       "        text-align: right;\n",
       "    }\n",
       "</style>\n",
       "<table border=\"1\" class=\"dataframe\">\n",
       "  <thead>\n",
       "    <tr style=\"text-align: right;\">\n",
       "      <th></th>\n",
       "      <th>Tanggal</th>\n",
       "      <th>Kecamatan</th>\n",
       "      <th>pam</th>\n",
       "      <th>pat</th>\n",
       "      <th>elevasi</th>\n",
       "      <th>bulan</th>\n",
       "      <th>bulan_num</th>\n",
       "      <th>tahun</th>\n",
       "    </tr>\n",
       "  </thead>\n",
       "  <tbody>\n",
       "    <tr>\n",
       "      <th>0</th>\n",
       "      <td>2018-01-01</td>\n",
       "      <td>Kalideres</td>\n",
       "      <td>1154930</td>\n",
       "      <td>17945</td>\n",
       "      <td>5.352066</td>\n",
       "      <td>January</td>\n",
       "      <td>1</td>\n",
       "      <td>2018</td>\n",
       "    </tr>\n",
       "    <tr>\n",
       "      <th>1</th>\n",
       "      <td>2018-01-01</td>\n",
       "      <td>Cengkareng</td>\n",
       "      <td>883655</td>\n",
       "      <td>13730</td>\n",
       "      <td>3.352066</td>\n",
       "      <td>January</td>\n",
       "      <td>1</td>\n",
       "      <td>2018</td>\n",
       "    </tr>\n",
       "    <tr>\n",
       "      <th>2</th>\n",
       "      <td>2018-01-01</td>\n",
       "      <td>Tambora</td>\n",
       "      <td>128</td>\n",
       "      <td>2</td>\n",
       "      <td>4.352066</td>\n",
       "      <td>January</td>\n",
       "      <td>1</td>\n",
       "      <td>2018</td>\n",
       "    </tr>\n",
       "    <tr>\n",
       "      <th>3</th>\n",
       "      <td>2018-01-01</td>\n",
       "      <td>Grogol Petamburan</td>\n",
       "      <td>373284</td>\n",
       "      <td>5800</td>\n",
       "      <td>4.352066</td>\n",
       "      <td>January</td>\n",
       "      <td>1</td>\n",
       "      <td>2018</td>\n",
       "    </tr>\n",
       "    <tr>\n",
       "      <th>4</th>\n",
       "      <td>2018-01-01</td>\n",
       "      <td>Taman Sari</td>\n",
       "      <td>207430</td>\n",
       "      <td>3223</td>\n",
       "      <td>5.352066</td>\n",
       "      <td>January</td>\n",
       "      <td>1</td>\n",
       "      <td>2018</td>\n",
       "    </tr>\n",
       "    <tr>\n",
       "      <th>...</th>\n",
       "      <td>...</td>\n",
       "      <td>...</td>\n",
       "      <td>...</td>\n",
       "      <td>...</td>\n",
       "      <td>...</td>\n",
       "      <td>...</td>\n",
       "      <td>...</td>\n",
       "      <td>...</td>\n",
       "    </tr>\n",
       "    <tr>\n",
       "      <th>1507</th>\n",
       "      <td>2020-12-01</td>\n",
       "      <td>Pesanggrahan</td>\n",
       "      <td>410806</td>\n",
       "      <td>6383</td>\n",
       "      <td>22.131616</td>\n",
       "      <td>December</td>\n",
       "      <td>12</td>\n",
       "      <td>2020</td>\n",
       "    </tr>\n",
       "    <tr>\n",
       "      <th>1508</th>\n",
       "      <td>2020-12-01</td>\n",
       "      <td>Pasar Minggu</td>\n",
       "      <td>3304537</td>\n",
       "      <td>51345</td>\n",
       "      <td>39.131616</td>\n",
       "      <td>December</td>\n",
       "      <td>12</td>\n",
       "      <td>2020</td>\n",
       "    </tr>\n",
       "    <tr>\n",
       "      <th>1509</th>\n",
       "      <td>2020-12-01</td>\n",
       "      <td>Jagakarsa</td>\n",
       "      <td>872457</td>\n",
       "      <td>13556</td>\n",
       "      <td>62.131616</td>\n",
       "      <td>December</td>\n",
       "      <td>12</td>\n",
       "      <td>2020</td>\n",
       "    </tr>\n",
       "    <tr>\n",
       "      <th>1510</th>\n",
       "      <td>2020-12-01</td>\n",
       "      <td>Mampang Prapatan</td>\n",
       "      <td>1110973</td>\n",
       "      <td>17262</td>\n",
       "      <td>26.131616</td>\n",
       "      <td>December</td>\n",
       "      <td>12</td>\n",
       "      <td>2020</td>\n",
       "    </tr>\n",
       "    <tr>\n",
       "      <th>1511</th>\n",
       "      <td>2020-12-01</td>\n",
       "      <td>Pancoran</td>\n",
       "      <td>1514635</td>\n",
       "      <td>23534</td>\n",
       "      <td>25.131616</td>\n",
       "      <td>December</td>\n",
       "      <td>12</td>\n",
       "      <td>2020</td>\n",
       "    </tr>\n",
       "  </tbody>\n",
       "</table>\n",
       "<p>1512 rows × 8 columns</p>\n",
       "</div>"
      ],
      "text/plain": [
       "        Tanggal          Kecamatan      pam    pat    elevasi     bulan  \\\n",
       "0    2018-01-01          Kalideres  1154930  17945   5.352066   January   \n",
       "1    2018-01-01         Cengkareng   883655  13730   3.352066   January   \n",
       "2    2018-01-01            Tambora      128      2   4.352066   January   \n",
       "3    2018-01-01  Grogol Petamburan   373284   5800   4.352066   January   \n",
       "4    2018-01-01         Taman Sari   207430   3223   5.352066   January   \n",
       "...         ...                ...      ...    ...        ...       ...   \n",
       "1507 2020-12-01       Pesanggrahan   410806   6383  22.131616  December   \n",
       "1508 2020-12-01       Pasar Minggu  3304537  51345  39.131616  December   \n",
       "1509 2020-12-01          Jagakarsa   872457  13556  62.131616  December   \n",
       "1510 2020-12-01   Mampang Prapatan  1110973  17262  26.131616  December   \n",
       "1511 2020-12-01           Pancoran  1514635  23534  25.131616  December   \n",
       "\n",
       "      bulan_num  tahun  \n",
       "0             1   2018  \n",
       "1             1   2018  \n",
       "2             1   2018  \n",
       "3             1   2018  \n",
       "4             1   2018  \n",
       "...         ...    ...  \n",
       "1507         12   2020  \n",
       "1508         12   2020  \n",
       "1509         12   2020  \n",
       "1510         12   2020  \n",
       "1511         12   2020  \n",
       "\n",
       "[1512 rows x 8 columns]"
      ]
     },
     "execution_count": 84,
     "metadata": {},
     "output_type": "execute_result"
    }
   ],
   "source": [
    "df"
   ]
  },
  {
   "cell_type": "markdown",
   "metadata": {},
   "source": [
    "## Menambahkan kolom wilayah"
   ]
  },
  {
   "cell_type": "code",
   "execution_count": 85,
   "metadata": {},
   "outputs": [
    {
     "name": "stdout",
     "output_type": "stream",
     "text": [
      "['Kalideres' 'Cengkareng' 'Tambora' 'Grogol Petamburan' 'Taman Sari'\n",
      " 'Kebon Jeruk' 'Kembangan' 'Palmerah' 'Menteng' 'Tanah Abang'\n",
      " 'Sawah Besar' 'Gambir' 'Cempaka Putih' 'Johar Baru' 'Kemayoran' 'Senen'\n",
      " 'Kramat Jati' 'Ciracas' 'Cipayung' 'Makasar' 'Pasar Rebo' 'Jatinegara'\n",
      " 'Duren sawit' 'Matraman' 'Pulo Gadung' 'Cakung' 'Tanjung Priok'\n",
      " 'Cilincing' 'Kelapa gading' 'Koja' 'Pademangan' 'Penjaringan' 'Setiabudi'\n",
      " 'Tebet' 'Keb Baru' 'Keb Lama' 'Cilandak' 'Pesanggrahan' 'Pasar Minggu'\n",
      " 'Jagakarsa' 'Mampang Prapatan' 'Pancoran']\n"
     ]
    }
   ],
   "source": [
    "print(df['Kecamatan'].unique())"
   ]
  },
  {
   "cell_type": "code",
   "execution_count": 86,
   "metadata": {},
   "outputs": [
    {
     "data": {
      "text/plain": [
       "42"
      ]
     },
     "execution_count": 86,
     "metadata": {},
     "output_type": "execute_result"
    }
   ],
   "source": [
    "df['Kecamatan'].nunique()"
   ]
  },
  {
   "cell_type": "code",
   "execution_count": 87,
   "metadata": {},
   "outputs": [],
   "source": [
    "df_clean = df[(df['Kecamatan'] != 'Total Jakarta') & (df['Kecamatan'] != 'Jakarta Utara') & (df['Kecamatan'] != 'Jakarta Selatan') & (df['Kecamatan'] != 'Jakarta Barat') & (df['Kecamatan'] != 'Jakarta Timur')\n",
    "& (df['Kecamatan'] != 'Jakarta Pusat')]"
   ]
  },
  {
   "cell_type": "code",
   "execution_count": 88,
   "metadata": {},
   "outputs": [
    {
     "data": {
      "text/html": [
       "<div>\n",
       "<style scoped>\n",
       "    .dataframe tbody tr th:only-of-type {\n",
       "        vertical-align: middle;\n",
       "    }\n",
       "\n",
       "    .dataframe tbody tr th {\n",
       "        vertical-align: top;\n",
       "    }\n",
       "\n",
       "    .dataframe thead th {\n",
       "        text-align: right;\n",
       "    }\n",
       "</style>\n",
       "<table border=\"1\" class=\"dataframe\">\n",
       "  <thead>\n",
       "    <tr style=\"text-align: right;\">\n",
       "      <th></th>\n",
       "      <th>Tanggal</th>\n",
       "      <th>Kecamatan</th>\n",
       "      <th>pam</th>\n",
       "      <th>pat</th>\n",
       "      <th>elevasi</th>\n",
       "      <th>bulan</th>\n",
       "      <th>bulan_num</th>\n",
       "      <th>tahun</th>\n",
       "    </tr>\n",
       "  </thead>\n",
       "  <tbody>\n",
       "    <tr>\n",
       "      <th>0</th>\n",
       "      <td>2018-01-01</td>\n",
       "      <td>Kalideres</td>\n",
       "      <td>1154930</td>\n",
       "      <td>17945</td>\n",
       "      <td>5.352066</td>\n",
       "      <td>January</td>\n",
       "      <td>1</td>\n",
       "      <td>2018</td>\n",
       "    </tr>\n",
       "    <tr>\n",
       "      <th>1</th>\n",
       "      <td>2018-01-01</td>\n",
       "      <td>Cengkareng</td>\n",
       "      <td>883655</td>\n",
       "      <td>13730</td>\n",
       "      <td>3.352066</td>\n",
       "      <td>January</td>\n",
       "      <td>1</td>\n",
       "      <td>2018</td>\n",
       "    </tr>\n",
       "    <tr>\n",
       "      <th>2</th>\n",
       "      <td>2018-01-01</td>\n",
       "      <td>Tambora</td>\n",
       "      <td>128</td>\n",
       "      <td>2</td>\n",
       "      <td>4.352066</td>\n",
       "      <td>January</td>\n",
       "      <td>1</td>\n",
       "      <td>2018</td>\n",
       "    </tr>\n",
       "    <tr>\n",
       "      <th>3</th>\n",
       "      <td>2018-01-01</td>\n",
       "      <td>Grogol Petamburan</td>\n",
       "      <td>373284</td>\n",
       "      <td>5800</td>\n",
       "      <td>4.352066</td>\n",
       "      <td>January</td>\n",
       "      <td>1</td>\n",
       "      <td>2018</td>\n",
       "    </tr>\n",
       "    <tr>\n",
       "      <th>4</th>\n",
       "      <td>2018-01-01</td>\n",
       "      <td>Taman Sari</td>\n",
       "      <td>207430</td>\n",
       "      <td>3223</td>\n",
       "      <td>5.352066</td>\n",
       "      <td>January</td>\n",
       "      <td>1</td>\n",
       "      <td>2018</td>\n",
       "    </tr>\n",
       "    <tr>\n",
       "      <th>...</th>\n",
       "      <td>...</td>\n",
       "      <td>...</td>\n",
       "      <td>...</td>\n",
       "      <td>...</td>\n",
       "      <td>...</td>\n",
       "      <td>...</td>\n",
       "      <td>...</td>\n",
       "      <td>...</td>\n",
       "    </tr>\n",
       "    <tr>\n",
       "      <th>1507</th>\n",
       "      <td>2020-12-01</td>\n",
       "      <td>Pesanggrahan</td>\n",
       "      <td>410806</td>\n",
       "      <td>6383</td>\n",
       "      <td>22.131616</td>\n",
       "      <td>December</td>\n",
       "      <td>12</td>\n",
       "      <td>2020</td>\n",
       "    </tr>\n",
       "    <tr>\n",
       "      <th>1508</th>\n",
       "      <td>2020-12-01</td>\n",
       "      <td>Pasar Minggu</td>\n",
       "      <td>3304537</td>\n",
       "      <td>51345</td>\n",
       "      <td>39.131616</td>\n",
       "      <td>December</td>\n",
       "      <td>12</td>\n",
       "      <td>2020</td>\n",
       "    </tr>\n",
       "    <tr>\n",
       "      <th>1509</th>\n",
       "      <td>2020-12-01</td>\n",
       "      <td>Jagakarsa</td>\n",
       "      <td>872457</td>\n",
       "      <td>13556</td>\n",
       "      <td>62.131616</td>\n",
       "      <td>December</td>\n",
       "      <td>12</td>\n",
       "      <td>2020</td>\n",
       "    </tr>\n",
       "    <tr>\n",
       "      <th>1510</th>\n",
       "      <td>2020-12-01</td>\n",
       "      <td>Mampang Prapatan</td>\n",
       "      <td>1110973</td>\n",
       "      <td>17262</td>\n",
       "      <td>26.131616</td>\n",
       "      <td>December</td>\n",
       "      <td>12</td>\n",
       "      <td>2020</td>\n",
       "    </tr>\n",
       "    <tr>\n",
       "      <th>1511</th>\n",
       "      <td>2020-12-01</td>\n",
       "      <td>Pancoran</td>\n",
       "      <td>1514635</td>\n",
       "      <td>23534</td>\n",
       "      <td>25.131616</td>\n",
       "      <td>December</td>\n",
       "      <td>12</td>\n",
       "      <td>2020</td>\n",
       "    </tr>\n",
       "  </tbody>\n",
       "</table>\n",
       "<p>1512 rows × 8 columns</p>\n",
       "</div>"
      ],
      "text/plain": [
       "        Tanggal          Kecamatan      pam    pat    elevasi     bulan  \\\n",
       "0    2018-01-01          Kalideres  1154930  17945   5.352066   January   \n",
       "1    2018-01-01         Cengkareng   883655  13730   3.352066   January   \n",
       "2    2018-01-01            Tambora      128      2   4.352066   January   \n",
       "3    2018-01-01  Grogol Petamburan   373284   5800   4.352066   January   \n",
       "4    2018-01-01         Taman Sari   207430   3223   5.352066   January   \n",
       "...         ...                ...      ...    ...        ...       ...   \n",
       "1507 2020-12-01       Pesanggrahan   410806   6383  22.131616  December   \n",
       "1508 2020-12-01       Pasar Minggu  3304537  51345  39.131616  December   \n",
       "1509 2020-12-01          Jagakarsa   872457  13556  62.131616  December   \n",
       "1510 2020-12-01   Mampang Prapatan  1110973  17262  26.131616  December   \n",
       "1511 2020-12-01           Pancoran  1514635  23534  25.131616  December   \n",
       "\n",
       "      bulan_num  tahun  \n",
       "0             1   2018  \n",
       "1             1   2018  \n",
       "2             1   2018  \n",
       "3             1   2018  \n",
       "4             1   2018  \n",
       "...         ...    ...  \n",
       "1507         12   2020  \n",
       "1508         12   2020  \n",
       "1509         12   2020  \n",
       "1510         12   2020  \n",
       "1511         12   2020  \n",
       "\n",
       "[1512 rows x 8 columns]"
      ]
     },
     "execution_count": 88,
     "metadata": {},
     "output_type": "execute_result"
    }
   ],
   "source": [
    "df_clean"
   ]
  },
  {
   "cell_type": "code",
   "execution_count": 89,
   "metadata": {},
   "outputs": [
    {
     "data": {
      "text/plain": [
       "array(['Kalideres', 'Cengkareng', 'Tambora', 'Grogol Petamburan',\n",
       "       'Taman Sari', 'Kebon Jeruk', 'Kembangan', 'Palmerah', 'Menteng',\n",
       "       'Tanah Abang', 'Sawah Besar', 'Gambir', 'Cempaka Putih',\n",
       "       'Johar Baru', 'Kemayoran', 'Senen', 'Kramat Jati', 'Ciracas',\n",
       "       'Cipayung', 'Makasar', 'Pasar Rebo', 'Jatinegara', 'Duren sawit',\n",
       "       'Matraman', 'Pulo Gadung', 'Cakung', 'Tanjung Priok', 'Cilincing',\n",
       "       'Kelapa gading', 'Koja', 'Pademangan', 'Penjaringan', 'Setiabudi',\n",
       "       'Tebet', 'Keb Baru', 'Keb Lama', 'Cilandak', 'Pesanggrahan',\n",
       "       'Pasar Minggu', 'Jagakarsa', 'Mampang Prapatan', 'Pancoran'],\n",
       "      dtype=object)"
      ]
     },
     "execution_count": 89,
     "metadata": {},
     "output_type": "execute_result"
    }
   ],
   "source": [
    "df_clean['Kecamatan'].unique()"
   ]
  },
  {
   "cell_type": "code",
   "execution_count": 90,
   "metadata": {},
   "outputs": [],
   "source": [
    "def wilayah(df_clean):\n",
    "    if df_clean['Kecamatan'] == 'Cengkareng' or df_clean['Kecamatan'] == 'Grogol Petamburan' or df_clean['Kecamatan'] == 'Kalideres' or df_clean['Kecamatan'] == 'Kebon Jeruk' or df_clean['Kecamatan'] == 'Kembangan' or df_clean['Kecamatan'] == 'Palmerah' or df_clean['Kecamatan'] == 'Taman Sari' or df_clean['Kecamatan'] == 'Tambora':\n",
    "        return 'Jakarta Barat'\n",
    "    \n",
    "    if df_clean['Kecamatan'] == 'Cempaka Putih' or df_clean['Kecamatan'] == 'Gambir' or df_clean['Kecamatan'] == 'Johar Baru' or df_clean['Kecamatan'] == 'Kemayoran' or df_clean['Kecamatan'] == 'Menteng' or df_clean['Kecamatan'] == 'Sawah Besar' or df_clean['Kecamatan'] == 'Senen' or df_clean['Kecamatan'] == 'Tanah Abang':\n",
    "        return 'Jakarta Pusat'\n",
    "\n",
    "    if df_clean['Kecamatan'] == 'Cilandak' or df_clean['Kecamatan'] == 'Jagakarsa' or df_clean['Kecamatan'] == 'Keb Baru' or df_clean['Kecamatan'] == 'Keb Lama' or df_clean['Kecamatan'] == 'Mampang Prapatan' or df_clean['Kecamatan'] == 'Pancoran' or df_clean['Kecamatan'] == 'Pasar Minggu' or df_clean['Kecamatan'] == 'Pesanggrahan' or df_clean['Kecamatan'] == 'Setiabudi' or df_clean['Kecamatan'] == 'Tebet':\n",
    "        return 'Jakarta Selatan'\n",
    "\n",
    "    if df_clean['Kecamatan'] == 'Cakung' or df_clean['Kecamatan'] == 'Cipayung' or df_clean['Kecamatan'] == 'Ciracas' or df_clean['Kecamatan'] == 'Duren sawit' or df_clean['Kecamatan'] == 'Jatinegara' or df_clean['Kecamatan'] == 'Jatinegara' or df_clean['Kecamatan'] == 'Kramat Jati' or df_clean['Kecamatan'] == 'Makasar' or df_clean['Kecamatan'] == 'Matraman' or df_clean['Kecamatan'] == 'Menteng' or df_clean['Kecamatan'] == 'Pasar Rebo' or df_clean['Kecamatan'] == 'Pulo Gadung':\n",
    "        return 'Jakarta Timur'\n",
    "\n",
    "    if df_clean['Kecamatan'] == 'Cilincing' or df_clean['Kecamatan'] == 'Kelapa gading' or df_clean['Kecamatan'] == 'Koja' or df_clean['Kecamatan'] == 'Pademangan' or df_clean['Kecamatan'] == 'Penjaringan' or df_clean['Kecamatan'] == 'Tanjung Priok':\n",
    "        return 'Jakarta Utara'"
   ]
  },
  {
   "cell_type": "code",
   "execution_count": 91,
   "metadata": {},
   "outputs": [],
   "source": [
    "df_clean['wilayah'] = df_clean.apply(lambda df_clean: wilayah(df_clean), axis=1)"
   ]
  },
  {
   "cell_type": "code",
   "execution_count": 92,
   "metadata": {},
   "outputs": [],
   "source": [
    "wilayah = df_clean.apply(lambda df_clean: wilayah(df_clean), axis=1)"
   ]
  },
  {
   "cell_type": "code",
   "execution_count": 93,
   "metadata": {},
   "outputs": [
    {
     "data": {
      "text/html": [
       "<div>\n",
       "<style scoped>\n",
       "    .dataframe tbody tr th:only-of-type {\n",
       "        vertical-align: middle;\n",
       "    }\n",
       "\n",
       "    .dataframe tbody tr th {\n",
       "        vertical-align: top;\n",
       "    }\n",
       "\n",
       "    .dataframe thead th {\n",
       "        text-align: right;\n",
       "    }\n",
       "</style>\n",
       "<table border=\"1\" class=\"dataframe\">\n",
       "  <thead>\n",
       "    <tr style=\"text-align: right;\">\n",
       "      <th></th>\n",
       "      <th>Tanggal</th>\n",
       "      <th>Kecamatan</th>\n",
       "      <th>pam</th>\n",
       "      <th>pat</th>\n",
       "      <th>elevasi</th>\n",
       "      <th>bulan</th>\n",
       "      <th>bulan_num</th>\n",
       "      <th>tahun</th>\n",
       "      <th>wilayah</th>\n",
       "    </tr>\n",
       "  </thead>\n",
       "  <tbody>\n",
       "    <tr>\n",
       "      <th>0</th>\n",
       "      <td>2018-01-01</td>\n",
       "      <td>Kalideres</td>\n",
       "      <td>1154930</td>\n",
       "      <td>17945</td>\n",
       "      <td>5.352066</td>\n",
       "      <td>January</td>\n",
       "      <td>1</td>\n",
       "      <td>2018</td>\n",
       "      <td>Jakarta Barat</td>\n",
       "    </tr>\n",
       "    <tr>\n",
       "      <th>1</th>\n",
       "      <td>2018-01-01</td>\n",
       "      <td>Cengkareng</td>\n",
       "      <td>883655</td>\n",
       "      <td>13730</td>\n",
       "      <td>3.352066</td>\n",
       "      <td>January</td>\n",
       "      <td>1</td>\n",
       "      <td>2018</td>\n",
       "      <td>Jakarta Barat</td>\n",
       "    </tr>\n",
       "    <tr>\n",
       "      <th>2</th>\n",
       "      <td>2018-01-01</td>\n",
       "      <td>Tambora</td>\n",
       "      <td>128</td>\n",
       "      <td>2</td>\n",
       "      <td>4.352066</td>\n",
       "      <td>January</td>\n",
       "      <td>1</td>\n",
       "      <td>2018</td>\n",
       "      <td>Jakarta Barat</td>\n",
       "    </tr>\n",
       "    <tr>\n",
       "      <th>3</th>\n",
       "      <td>2018-01-01</td>\n",
       "      <td>Grogol Petamburan</td>\n",
       "      <td>373284</td>\n",
       "      <td>5800</td>\n",
       "      <td>4.352066</td>\n",
       "      <td>January</td>\n",
       "      <td>1</td>\n",
       "      <td>2018</td>\n",
       "      <td>Jakarta Barat</td>\n",
       "    </tr>\n",
       "    <tr>\n",
       "      <th>4</th>\n",
       "      <td>2018-01-01</td>\n",
       "      <td>Taman Sari</td>\n",
       "      <td>207430</td>\n",
       "      <td>3223</td>\n",
       "      <td>5.352066</td>\n",
       "      <td>January</td>\n",
       "      <td>1</td>\n",
       "      <td>2018</td>\n",
       "      <td>Jakarta Barat</td>\n",
       "    </tr>\n",
       "    <tr>\n",
       "      <th>...</th>\n",
       "      <td>...</td>\n",
       "      <td>...</td>\n",
       "      <td>...</td>\n",
       "      <td>...</td>\n",
       "      <td>...</td>\n",
       "      <td>...</td>\n",
       "      <td>...</td>\n",
       "      <td>...</td>\n",
       "      <td>...</td>\n",
       "    </tr>\n",
       "    <tr>\n",
       "      <th>1507</th>\n",
       "      <td>2020-12-01</td>\n",
       "      <td>Pesanggrahan</td>\n",
       "      <td>410806</td>\n",
       "      <td>6383</td>\n",
       "      <td>22.131616</td>\n",
       "      <td>December</td>\n",
       "      <td>12</td>\n",
       "      <td>2020</td>\n",
       "      <td>Jakarta Selatan</td>\n",
       "    </tr>\n",
       "    <tr>\n",
       "      <th>1508</th>\n",
       "      <td>2020-12-01</td>\n",
       "      <td>Pasar Minggu</td>\n",
       "      <td>3304537</td>\n",
       "      <td>51345</td>\n",
       "      <td>39.131616</td>\n",
       "      <td>December</td>\n",
       "      <td>12</td>\n",
       "      <td>2020</td>\n",
       "      <td>Jakarta Selatan</td>\n",
       "    </tr>\n",
       "    <tr>\n",
       "      <th>1509</th>\n",
       "      <td>2020-12-01</td>\n",
       "      <td>Jagakarsa</td>\n",
       "      <td>872457</td>\n",
       "      <td>13556</td>\n",
       "      <td>62.131616</td>\n",
       "      <td>December</td>\n",
       "      <td>12</td>\n",
       "      <td>2020</td>\n",
       "      <td>Jakarta Selatan</td>\n",
       "    </tr>\n",
       "    <tr>\n",
       "      <th>1510</th>\n",
       "      <td>2020-12-01</td>\n",
       "      <td>Mampang Prapatan</td>\n",
       "      <td>1110973</td>\n",
       "      <td>17262</td>\n",
       "      <td>26.131616</td>\n",
       "      <td>December</td>\n",
       "      <td>12</td>\n",
       "      <td>2020</td>\n",
       "      <td>Jakarta Selatan</td>\n",
       "    </tr>\n",
       "    <tr>\n",
       "      <th>1511</th>\n",
       "      <td>2020-12-01</td>\n",
       "      <td>Pancoran</td>\n",
       "      <td>1514635</td>\n",
       "      <td>23534</td>\n",
       "      <td>25.131616</td>\n",
       "      <td>December</td>\n",
       "      <td>12</td>\n",
       "      <td>2020</td>\n",
       "      <td>Jakarta Selatan</td>\n",
       "    </tr>\n",
       "  </tbody>\n",
       "</table>\n",
       "<p>1512 rows × 9 columns</p>\n",
       "</div>"
      ],
      "text/plain": [
       "        Tanggal          Kecamatan      pam    pat    elevasi     bulan  \\\n",
       "0    2018-01-01          Kalideres  1154930  17945   5.352066   January   \n",
       "1    2018-01-01         Cengkareng   883655  13730   3.352066   January   \n",
       "2    2018-01-01            Tambora      128      2   4.352066   January   \n",
       "3    2018-01-01  Grogol Petamburan   373284   5800   4.352066   January   \n",
       "4    2018-01-01         Taman Sari   207430   3223   5.352066   January   \n",
       "...         ...                ...      ...    ...        ...       ...   \n",
       "1507 2020-12-01       Pesanggrahan   410806   6383  22.131616  December   \n",
       "1508 2020-12-01       Pasar Minggu  3304537  51345  39.131616  December   \n",
       "1509 2020-12-01          Jagakarsa   872457  13556  62.131616  December   \n",
       "1510 2020-12-01   Mampang Prapatan  1110973  17262  26.131616  December   \n",
       "1511 2020-12-01           Pancoran  1514635  23534  25.131616  December   \n",
       "\n",
       "      bulan_num  tahun          wilayah  \n",
       "0             1   2018    Jakarta Barat  \n",
       "1             1   2018    Jakarta Barat  \n",
       "2             1   2018    Jakarta Barat  \n",
       "3             1   2018    Jakarta Barat  \n",
       "4             1   2018    Jakarta Barat  \n",
       "...         ...    ...              ...  \n",
       "1507         12   2020  Jakarta Selatan  \n",
       "1508         12   2020  Jakarta Selatan  \n",
       "1509         12   2020  Jakarta Selatan  \n",
       "1510         12   2020  Jakarta Selatan  \n",
       "1511         12   2020  Jakarta Selatan  \n",
       "\n",
       "[1512 rows x 9 columns]"
      ]
     },
     "execution_count": 93,
     "metadata": {},
     "output_type": "execute_result"
    }
   ],
   "source": [
    "df_clean"
   ]
  },
  {
   "cell_type": "code",
   "execution_count": 94,
   "metadata": {},
   "outputs": [
    {
     "data": {
      "text/html": [
       "<div>\n",
       "<style scoped>\n",
       "    .dataframe tbody tr th:only-of-type {\n",
       "        vertical-align: middle;\n",
       "    }\n",
       "\n",
       "    .dataframe tbody tr th {\n",
       "        vertical-align: top;\n",
       "    }\n",
       "\n",
       "    .dataframe thead th {\n",
       "        text-align: right;\n",
       "    }\n",
       "</style>\n",
       "<table border=\"1\" class=\"dataframe\">\n",
       "  <thead>\n",
       "    <tr style=\"text-align: right;\">\n",
       "      <th></th>\n",
       "      <th>count</th>\n",
       "      <th>unique</th>\n",
       "      <th>top</th>\n",
       "      <th>freq</th>\n",
       "    </tr>\n",
       "  </thead>\n",
       "  <tbody>\n",
       "    <tr>\n",
       "      <th>Kecamatan</th>\n",
       "      <td>1512</td>\n",
       "      <td>42</td>\n",
       "      <td>Ciracas</td>\n",
       "      <td>36</td>\n",
       "    </tr>\n",
       "    <tr>\n",
       "      <th>bulan</th>\n",
       "      <td>1512</td>\n",
       "      <td>12</td>\n",
       "      <td>January</td>\n",
       "      <td>126</td>\n",
       "    </tr>\n",
       "    <tr>\n",
       "      <th>wilayah</th>\n",
       "      <td>1512</td>\n",
       "      <td>5</td>\n",
       "      <td>Jakarta Timur</td>\n",
       "      <td>360</td>\n",
       "    </tr>\n",
       "  </tbody>\n",
       "</table>\n",
       "</div>"
      ],
      "text/plain": [
       "          count unique            top freq\n",
       "Kecamatan  1512     42        Ciracas   36\n",
       "bulan      1512     12        January  126\n",
       "wilayah    1512      5  Jakarta Timur  360"
      ]
     },
     "execution_count": 94,
     "metadata": {},
     "output_type": "execute_result"
    }
   ],
   "source": [
    "df_clean.describe(include='O').T"
   ]
  },
  {
   "cell_type": "code",
   "execution_count": 95,
   "metadata": {},
   "outputs": [],
   "source": [
    "df_clean.to_csv('updated_wilayah_pampat.csv')"
   ]
  },
  {
   "cell_type": "code",
   "execution_count": 96,
   "metadata": {},
   "outputs": [
    {
     "name": "stdout",
     "output_type": "stream",
     "text": [
      "['Jakarta Barat' 'Jakarta Pusat' 'Jakarta Timur' 'Jakarta Utara'\n",
      " 'Jakarta Selatan']\n"
     ]
    }
   ],
   "source": [
    "print(df_clean['wilayah'].unique())"
   ]
  },
  {
   "cell_type": "code",
   "execution_count": 97,
   "metadata": {},
   "outputs": [
    {
     "data": {
      "text/plain": [
       "5"
      ]
     },
     "execution_count": 97,
     "metadata": {},
     "output_type": "execute_result"
    }
   ],
   "source": [
    "df_clean['wilayah'].nunique()"
   ]
  },
  {
   "cell_type": "code",
   "execution_count": 98,
   "metadata": {
    "scrolled": true
   },
   "outputs": [
    {
     "data": {
      "text/plain": [
       "Tanggal      0\n",
       "Kecamatan    0\n",
       "pam          0\n",
       "pat          0\n",
       "elevasi      0\n",
       "bulan        0\n",
       "bulan_num    0\n",
       "tahun        0\n",
       "wilayah      0\n",
       "dtype: int64"
      ]
     },
     "execution_count": 98,
     "metadata": {},
     "output_type": "execute_result"
    }
   ],
   "source": [
    "df_clean.isnull().sum()"
   ]
  },
  {
   "cell_type": "code",
   "execution_count": null,
   "metadata": {},
   "outputs": [],
   "source": []
  }
 ],
 "metadata": {
  "kernelspec": {
   "display_name": "Python [conda env:jcopml]",
   "language": "python",
   "name": "conda-env-jcopml-py"
  },
  "language_info": {
   "codemirror_mode": {
    "name": "ipython",
    "version": 3
   },
   "file_extension": ".py",
   "mimetype": "text/x-python",
   "name": "python",
   "nbconvert_exporter": "python",
   "pygments_lexer": "ipython3",
   "version": "3.7.6"
  }
 },
 "nbformat": 4,
 "nbformat_minor": 4
}
