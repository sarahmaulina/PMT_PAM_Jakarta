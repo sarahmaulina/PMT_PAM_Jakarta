{
 "cells": [
  {
   "cell_type": "code",
   "execution_count": 31,
   "metadata": {},
   "outputs": [],
   "source": [
    "import numpy as np\n",
    "import pandas as pd\n",
    "from jcopml.utils import save_model, load_model\n",
    "\n",
    "import warnings\n",
    "warnings.filterwarnings('ignore')"
   ]
  },
  {
   "cell_type": "code",
   "execution_count": 32,
   "metadata": {},
   "outputs": [
    {
     "data": {
      "text/html": [
       "<div>\n",
       "<style scoped>\n",
       "    .dataframe tbody tr th:only-of-type {\n",
       "        vertical-align: middle;\n",
       "    }\n",
       "\n",
       "    .dataframe tbody tr th {\n",
       "        vertical-align: top;\n",
       "    }\n",
       "\n",
       "    .dataframe thead th {\n",
       "        text-align: right;\n",
       "    }\n",
       "</style>\n",
       "<table border=\"1\" class=\"dataframe\">\n",
       "  <thead>\n",
       "    <tr style=\"text-align: right;\">\n",
       "      <th></th>\n",
       "      <th>Tanggal</th>\n",
       "      <th>Kecamatan</th>\n",
       "      <th>pam</th>\n",
       "      <th>pat</th>\n",
       "      <th>elevasi</th>\n",
       "      <th>bulan</th>\n",
       "      <th>bulan_num</th>\n",
       "      <th>tahun</th>\n",
       "      <th>wilayah</th>\n",
       "    </tr>\n",
       "  </thead>\n",
       "  <tbody>\n",
       "    <tr>\n",
       "      <th>0</th>\n",
       "      <td>2018-01-01</td>\n",
       "      <td>Kalideres</td>\n",
       "      <td>1154930</td>\n",
       "      <td>17945</td>\n",
       "      <td>5.352066</td>\n",
       "      <td>January</td>\n",
       "      <td>1</td>\n",
       "      <td>2018</td>\n",
       "      <td>Jakarta Barat</td>\n",
       "    </tr>\n",
       "    <tr>\n",
       "      <th>1</th>\n",
       "      <td>2018-01-01</td>\n",
       "      <td>Cengkareng</td>\n",
       "      <td>883655</td>\n",
       "      <td>13730</td>\n",
       "      <td>3.352066</td>\n",
       "      <td>January</td>\n",
       "      <td>1</td>\n",
       "      <td>2018</td>\n",
       "      <td>Jakarta Barat</td>\n",
       "    </tr>\n",
       "    <tr>\n",
       "      <th>2</th>\n",
       "      <td>2018-01-01</td>\n",
       "      <td>Tambora</td>\n",
       "      <td>128</td>\n",
       "      <td>2</td>\n",
       "      <td>4.352066</td>\n",
       "      <td>January</td>\n",
       "      <td>1</td>\n",
       "      <td>2018</td>\n",
       "      <td>Jakarta Barat</td>\n",
       "    </tr>\n",
       "    <tr>\n",
       "      <th>3</th>\n",
       "      <td>2018-01-01</td>\n",
       "      <td>Grogol Petamburan</td>\n",
       "      <td>373284</td>\n",
       "      <td>5800</td>\n",
       "      <td>4.352066</td>\n",
       "      <td>January</td>\n",
       "      <td>1</td>\n",
       "      <td>2018</td>\n",
       "      <td>Jakarta Barat</td>\n",
       "    </tr>\n",
       "    <tr>\n",
       "      <th>4</th>\n",
       "      <td>2018-01-01</td>\n",
       "      <td>Taman Sari</td>\n",
       "      <td>207430</td>\n",
       "      <td>3223</td>\n",
       "      <td>5.352066</td>\n",
       "      <td>January</td>\n",
       "      <td>1</td>\n",
       "      <td>2018</td>\n",
       "      <td>Jakarta Barat</td>\n",
       "    </tr>\n",
       "  </tbody>\n",
       "</table>\n",
       "</div>"
      ],
      "text/plain": [
       "      Tanggal          Kecamatan      pam    pat   elevasi    bulan  \\\n",
       "0  2018-01-01          Kalideres  1154930  17945  5.352066  January   \n",
       "1  2018-01-01         Cengkareng   883655  13730  3.352066  January   \n",
       "2  2018-01-01            Tambora      128      2  4.352066  January   \n",
       "3  2018-01-01  Grogol Petamburan   373284   5800  4.352066  January   \n",
       "4  2018-01-01         Taman Sari   207430   3223  5.352066  January   \n",
       "\n",
       "   bulan_num  tahun        wilayah  \n",
       "0          1   2018  Jakarta Barat  \n",
       "1          1   2018  Jakarta Barat  \n",
       "2          1   2018  Jakarta Barat  \n",
       "3          1   2018  Jakarta Barat  \n",
       "4          1   2018  Jakarta Barat  "
      ]
     },
     "execution_count": 32,
     "metadata": {},
     "output_type": "execute_result"
    }
   ],
   "source": [
    "raw=pd.read_csv('updated_wilayah_pampat.csv', index_col=0)\n",
    "raw.head()"
   ]
  },
  {
   "cell_type": "code",
   "execution_count": 33,
   "metadata": {},
   "outputs": [],
   "source": [
    "raw.drop(columns=['Tanggal','bulan_num'],inplace=True)"
   ]
  },
  {
   "cell_type": "code",
   "execution_count": 34,
   "metadata": {},
   "outputs": [
    {
     "data": {
      "text/html": [
       "<div>\n",
       "<style scoped>\n",
       "    .dataframe tbody tr th:only-of-type {\n",
       "        vertical-align: middle;\n",
       "    }\n",
       "\n",
       "    .dataframe tbody tr th {\n",
       "        vertical-align: top;\n",
       "    }\n",
       "\n",
       "    .dataframe thead th {\n",
       "        text-align: right;\n",
       "    }\n",
       "</style>\n",
       "<table border=\"1\" class=\"dataframe\">\n",
       "  <thead>\n",
       "    <tr style=\"text-align: right;\">\n",
       "      <th></th>\n",
       "      <th>tahun</th>\n",
       "      <th>bulan</th>\n",
       "      <th>wilayah</th>\n",
       "      <th>Kecamatan</th>\n",
       "      <th>pam</th>\n",
       "      <th>pat</th>\n",
       "      <th>elevasi</th>\n",
       "    </tr>\n",
       "  </thead>\n",
       "  <tbody>\n",
       "    <tr>\n",
       "      <th>0</th>\n",
       "      <td>2018</td>\n",
       "      <td>January</td>\n",
       "      <td>Jakarta Barat</td>\n",
       "      <td>Kalideres</td>\n",
       "      <td>1154930</td>\n",
       "      <td>17945</td>\n",
       "      <td>5.352066</td>\n",
       "    </tr>\n",
       "    <tr>\n",
       "      <th>1</th>\n",
       "      <td>2018</td>\n",
       "      <td>January</td>\n",
       "      <td>Jakarta Barat</td>\n",
       "      <td>Cengkareng</td>\n",
       "      <td>883655</td>\n",
       "      <td>13730</td>\n",
       "      <td>3.352066</td>\n",
       "    </tr>\n",
       "    <tr>\n",
       "      <th>2</th>\n",
       "      <td>2018</td>\n",
       "      <td>January</td>\n",
       "      <td>Jakarta Barat</td>\n",
       "      <td>Tambora</td>\n",
       "      <td>128</td>\n",
       "      <td>2</td>\n",
       "      <td>4.352066</td>\n",
       "    </tr>\n",
       "    <tr>\n",
       "      <th>3</th>\n",
       "      <td>2018</td>\n",
       "      <td>January</td>\n",
       "      <td>Jakarta Barat</td>\n",
       "      <td>Grogol Petamburan</td>\n",
       "      <td>373284</td>\n",
       "      <td>5800</td>\n",
       "      <td>4.352066</td>\n",
       "    </tr>\n",
       "    <tr>\n",
       "      <th>4</th>\n",
       "      <td>2018</td>\n",
       "      <td>January</td>\n",
       "      <td>Jakarta Barat</td>\n",
       "      <td>Taman Sari</td>\n",
       "      <td>207430</td>\n",
       "      <td>3223</td>\n",
       "      <td>5.352066</td>\n",
       "    </tr>\n",
       "  </tbody>\n",
       "</table>\n",
       "</div>"
      ],
      "text/plain": [
       "   tahun    bulan        wilayah          Kecamatan      pam    pat   elevasi\n",
       "0   2018  January  Jakarta Barat          Kalideres  1154930  17945  5.352066\n",
       "1   2018  January  Jakarta Barat         Cengkareng   883655  13730  3.352066\n",
       "2   2018  January  Jakarta Barat            Tambora      128      2  4.352066\n",
       "3   2018  January  Jakarta Barat  Grogol Petamburan   373284   5800  4.352066\n",
       "4   2018  January  Jakarta Barat         Taman Sari   207430   3223  5.352066"
      ]
     },
     "execution_count": 34,
     "metadata": {},
     "output_type": "execute_result"
    }
   ],
   "source": [
    "df = raw[['tahun', 'bulan', 'wilayah', 'Kecamatan', 'pam', 'pat','elevasi']]\n",
    "df.head()"
   ]
  },
  {
   "cell_type": "markdown",
   "metadata": {},
   "source": [
    "# Splitting Data"
   ]
  },
  {
   "cell_type": "code",
   "execution_count": 35,
   "metadata": {},
   "outputs": [],
   "source": [
    "from sklearn.model_selection import train_test_split"
   ]
  },
  {
   "cell_type": "code",
   "execution_count": 36,
   "metadata": {},
   "outputs": [],
   "source": [
    "X = df.drop(columns=['elevasi'])\n",
    "y = df['elevasi']"
   ]
  },
  {
   "cell_type": "code",
   "execution_count": 37,
   "metadata": {},
   "outputs": [],
   "source": [
    "X_train, X_test, y_train, y_test = train_test_split(X, y, test_size=0.2, random_state=42)"
   ]
  },
  {
   "cell_type": "code",
   "execution_count": 38,
   "metadata": {},
   "outputs": [
    {
     "data": {
      "text/plain": [
       "Index(['tahun', 'bulan', 'wilayah', 'Kecamatan', 'pam', 'pat'], dtype='object')"
      ]
     },
     "execution_count": 38,
     "metadata": {},
     "output_type": "execute_result"
    }
   ],
   "source": [
    "X_train.columns"
   ]
  },
  {
   "cell_type": "markdown",
   "metadata": {},
   "source": [
    "# Model"
   ]
  },
  {
   "cell_type": "code",
   "execution_count": 39,
   "metadata": {},
   "outputs": [],
   "source": [
    "from sklearn.ensemble import RandomForestRegressor\n",
    "\n",
    "from sklearn.pipeline import Pipeline\n",
    "from sklearn.preprocessing import OneHotEncoder\n",
    "from sklearn.compose import ColumnTransformer\n",
    "from sklearn.metrics import r2_score"
   ]
  },
  {
   "cell_type": "code",
   "execution_count": 41,
   "metadata": {},
   "outputs": [],
   "source": [
    "transform = ColumnTransformer([\n",
    "    (\"encode\", OneHotEncoder(), ['bulan','wilayah','Kecamatan'])\n",
    "], remainder = 'passthrough')\n",
    "\n",
    "model = Pipeline([\n",
    "    (\"encode\", transform),\n",
    "    (\"algo\", RandomForestRegressor(max_depth=None, max_features='auto', min_samples_leaf= 1, min_samples_split= 18, n_estimators=150))\n",
    "])"
   ]
  },
  {
   "cell_type": "code",
   "execution_count": 42,
   "metadata": {},
   "outputs": [
    {
     "data": {
      "text/plain": [
       "Pipeline(memory=None,\n",
       "         steps=[('encode',\n",
       "                 ColumnTransformer(n_jobs=None, remainder='passthrough',\n",
       "                                   sparse_threshold=0.3,\n",
       "                                   transformer_weights=None,\n",
       "                                   transformers=[('encode',\n",
       "                                                  OneHotEncoder(categories='auto',\n",
       "                                                                drop=None,\n",
       "                                                                dtype=<class 'numpy.float64'>,\n",
       "                                                                handle_unknown='error',\n",
       "                                                                sparse=True),\n",
       "                                                  ['bulan', 'wilayah',\n",
       "                                                   'Kecamatan'])],\n",
       "                                   verbose=False)),\n",
       "                ('algo',\n",
       "                 RandomForestRegressor(bootstrap=True, ccp_alpha=0.0,\n",
       "                                       criterion='mse', max_depth=None,\n",
       "                                       max_features='auto', max_leaf_nodes=None,\n",
       "                                       max_samples=None,\n",
       "                                       min_impurity_decrease=0.0,\n",
       "                                       min_impurity_split=None,\n",
       "                                       min_samples_leaf=1, min_samples_split=18,\n",
       "                                       min_weight_fraction_leaf=0.0,\n",
       "                                       n_estimators=150, n_jobs=None,\n",
       "                                       oob_score=False, random_state=None,\n",
       "                                       verbose=0, warm_start=False))],\n",
       "         verbose=False)"
      ]
     },
     "execution_count": 42,
     "metadata": {},
     "output_type": "execute_result"
    }
   ],
   "source": [
    "model.fit(X_train, y_train)"
   ]
  },
  {
   "cell_type": "code",
   "execution_count": 43,
   "metadata": {},
   "outputs": [],
   "source": [
    "pred = model.predict(X_test)"
   ]
  },
  {
   "cell_type": "code",
   "execution_count": 44,
   "metadata": {},
   "outputs": [
    {
     "data": {
      "text/plain": [
       "0.9992440809930954"
      ]
     },
     "execution_count": 44,
     "metadata": {},
     "output_type": "execute_result"
    }
   ],
   "source": [
    "from sklearn.metrics import r2_score\n",
    "\n",
    "r2_score(y_test, pred)"
   ]
  },
  {
   "cell_type": "code",
   "execution_count": 45,
   "metadata": {},
   "outputs": [
    {
     "name": "stdout",
     "output_type": "stream",
     "text": [
      "Model is pickled as model/prediction_jakut\n"
     ]
    }
   ],
   "source": [
    "save_model(model, 'prediction_jakut')"
   ]
  }
 ],
 "metadata": {
  "kernelspec": {
   "display_name": "Python [conda env:jcopml]",
   "language": "python",
   "name": "conda-env-jcopml-py"
  },
  "language_info": {
   "codemirror_mode": {
    "name": "ipython",
    "version": 3
   },
   "file_extension": ".py",
   "mimetype": "text/x-python",
   "name": "python",
   "nbconvert_exporter": "python",
   "pygments_lexer": "ipython3",
   "version": "3.7.6"
  }
 },
 "nbformat": 4,
 "nbformat_minor": 4
}
